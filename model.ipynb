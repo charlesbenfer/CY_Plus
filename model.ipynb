{
 "cells": [
  {
   "cell_type": "code",
   "execution_count": 8,
   "metadata": {},
   "outputs": [
    {
     "name": "stderr",
     "output_type": "stream",
     "text": [
      "/tmp/ipykernel_81723/2847549123.py:246: DtypeWarning: Columns (15,16,20,21) have mixed types. Specify dtype option on import or set low_memory=False.\n",
      "  pitch_df   = pd.read_csv('pitch_level.csv', parse_dates=['game_date'])\n",
      "/tmp/ipykernel_81723/2847549123.py:37: FutureWarning: Downcasting object dtype arrays on .fillna, .ffill, .bfill is deprecated and will change in a future version. Call result.infer_objects(copy=False) instead. To opt-in to the future behavior, set `pd.set_option('future.no_silent_downcasting', True)`\n",
      "  df['is_swing_bin'] = df['is_swing'].fillna(False).astype(int)\n",
      "/tmp/ipykernel_81723/2847549123.py:86: FutureWarning: Downcasting object dtype arrays on .fillna, .ffill, .bfill is deprecated and will change in a future version. Call result.infer_objects(copy=False) instead. To opt-in to the future behavior, set `pd.set_option('future.no_silent_downcasting', True)`\n",
      "  yw = swings['is_whiff'].fillna(False).astype(int)\n",
      "/tmp/ipykernel_81723/2847549123.py:93: FutureWarning: Downcasting object dtype arrays on .fillna, .ffill, .bfill is deprecated and will change in a future version. Call result.infer_objects(copy=False) instead. To opt-in to the future behavior, set `pd.set_option('future.no_silent_downcasting', True)`\n",
      "  hits = swings[~swings['is_whiff'].fillna(False)].dropna(subset=['launch_speed'])\n"
     ]
    },
    {
     "name": "stdout",
     "output_type": "stream",
     "text": [
      "== Level 1 Metrics ==\n",
      "Swing:   Acc = 0.7956346845024159 AUC = 0.8745557166341422\n",
      "              precision    recall  f1-score   support\n",
      "\n",
      "           0       0.82      0.77      0.80     21523\n",
      "           1       0.78      0.82      0.80     20490\n",
      "\n",
      "    accuracy                           0.80     42013\n",
      "   macro avg       0.80      0.80      0.80     42013\n",
      "weighted avg       0.80      0.80      0.80     42013\n",
      "\n",
      "Whiff:   Acc = 0.7606637384089799 AUC = 0.7398397992679298\n",
      "              precision    recall  f1-score   support\n",
      "\n",
      "           0       0.77      0.95      0.85     14669\n",
      "           1       0.70      0.28      0.40      5821\n",
      "\n",
      "    accuracy                           0.76     20490\n",
      "   macro avg       0.73      0.62      0.62     20490\n",
      "weighted avg       0.75      0.76      0.72     20490\n",
      "\n",
      "ExitVel: MSE = 196.46191257028107 R² = 0.09169048998419171\n"
     ]
    },
    {
     "name": "stderr",
     "output_type": "stream",
     "text": [
      "/tmp/ipykernel_81723/2847549123.py:135: FutureWarning: Downcasting object dtype arrays on .fillna, .ffill, .bfill is deprecated and will change in a future version. Call result.infer_objects(copy=False) instead. To opt-in to the future behavior, set `pd.set_option('future.no_silent_downcasting', True)`\n",
      "  d['is_swing_bin'] = d['is_swing'].fillna(False).astype(int)\n"
     ]
    },
    {
     "name": "stdout",
     "output_type": "stream",
     "text": [
      "Reloading Tuner from lstm_tuning/cy_model/tuner0.json\n"
     ]
    },
    {
     "name": "stderr",
     "output_type": "stream",
     "text": [
      "/home/charlesbenfer/CY_Plus/.venv/lib/python3.12/site-packages/keras/src/layers/core/masking.py:48: UserWarning: Do not pass an `input_shape`/`input_dim` argument to a layer. When using Sequential models, prefer using an `Input(shape)` object as the first layer in the model instead.\n",
      "  super().__init__(**kwargs)\n",
      "/home/charlesbenfer/CY_Plus/.venv/lib/python3.12/site-packages/keras/src/saving/saving_lib.py:757: UserWarning: Skipping variable loading for optimizer 'adam', because it has 2 variables whereas the saved optimizer has 12 variables. \n",
      "  saveable.load_own_variables(weights_store.get(inner_path))\n"
     ]
    },
    {
     "name": "stdout",
     "output_type": "stream",
     "text": [
      "== Level 2 LSTM val MSE: 0.0094 ==\n",
      "\u001b[1m70/70\u001b[0m \u001b[32m━━━━━━━━━━━━━━━━━━━━\u001b[0m\u001b[37m\u001b[0m \u001b[1m0s\u001b[0m 2ms/step\n"
     ]
    },
    {
     "name": "stderr",
     "output_type": "stream",
     "text": [
      "/home/charlesbenfer/CY_Plus/.venv/lib/python3.12/site-packages/pymc/model/core.py:1311: ImputationWarning: Data in obs contains missing values and will be automatically imputed from the sampling distribution.\n",
      "  warnings.warn(impute_message, ImputationWarning)\n",
      "Initializing NUTS using jitter+adapt_diag...\n",
      "Multiprocess sampling (2 chains in 2 jobs)\n",
      "NUTS: [mu, sd, a, eps, obs_unobserved]\n"
     ]
    },
    {
     "data": {
      "text/html": [
       "<pre style=\"white-space:pre;overflow-x:auto;line-height:normal;font-family:Menlo,'DejaVu Sans Mono',consolas,'Courier New',monospace\">/home/charlesbenfer/CY_Plus/.venv/lib/python3.12/site-packages/rich/live.py:231: UserWarning: install \"ipywidgets\" \n",
       "for Jupyter support\n",
       "  warnings.warn('install \"ipywidgets\" for Jupyter support')\n",
       "</pre>\n"
      ],
      "text/plain": [
       "/home/charlesbenfer/CY_Plus/.venv/lib/python3.12/site-packages/rich/live.py:231: UserWarning: install \"ipywidgets\" \n",
       "for Jupyter support\n",
       "  warnings.warn('install \"ipywidgets\" for Jupyter support')\n"
      ]
     },
     "metadata": {},
     "output_type": "display_data"
    },
    {
     "data": {
      "text/html": [
       "<pre style=\"white-space:pre;overflow-x:auto;line-height:normal;font-family:Menlo,'DejaVu Sans Mono',consolas,'Courier New',monospace\"></pre>\n"
      ],
      "text/plain": []
     },
     "metadata": {},
     "output_type": "display_data"
    },
    {
     "name": "stderr",
     "output_type": "stream",
     "text": [
      "Sampling 2 chains for 1_000 tune and 1_000 draw iterations (2_000 + 2_000 draws total) took 12 seconds.\n",
      "We recommend running at least 4 chains for robust computation of convergence diagnostics\n",
      "The rhat statistic is larger than 1.01 for some parameters. This indicates problems during sampling. See https://arxiv.org/abs/1903.08008 for details\n"
     ]
    },
    {
     "name": "stdout",
     "output_type": "stream",
     "text": [
      "== Meta-model Performance ==\n",
      "Acc = 0.9285714285714286 AUC = 0.6175213675213675\n",
      "This May Take a While. Progress Bar shows Completion of Data Retrieval.\n"
     ]
    },
    {
     "name": "stderr",
     "output_type": "stream",
     "text": [
      "Processing: 100%|██████████| 5/5 [00:00<00:00, 16.25iteration/s]\n"
     ]
    },
    {
     "name": "stdout",
     "output_type": "stream",
     "text": [
      "Converting Data to Dataframe.\n",
      "This May Take a While. Progress Bar shows Completion of Data Retrieval.\n"
     ]
    },
    {
     "name": "stderr",
     "output_type": "stream",
     "text": [
      "Processing: 100%|██████████| 4/4 [00:00<00:00, 12.88iteration/s]\n"
     ]
    },
    {
     "name": "stdout",
     "output_type": "stream",
     "text": [
      "Converting Data to Dataframe.\n",
      "This May Take a While. Progress Bar shows Completion of Data Retrieval.\n"
     ]
    },
    {
     "name": "stderr",
     "output_type": "stream",
     "text": [
      "Processing: 100%|██████████| 5/5 [00:00<00:00, 17.75iteration/s]\n"
     ]
    },
    {
     "name": "stdout",
     "output_type": "stream",
     "text": [
      "Converting Data to Dataframe.\n",
      "This May Take a While. Progress Bar shows Completion of Data Retrieval.\n"
     ]
    },
    {
     "name": "stderr",
     "output_type": "stream",
     "text": [
      "Processing: 100%|██████████| 5/5 [00:00<00:00, 18.01iteration/s]\n"
     ]
    },
    {
     "name": "stdout",
     "output_type": "stream",
     "text": [
      "Converting Data to Dataframe.\n",
      "This May Take a While. Progress Bar shows Completion of Data Retrieval.\n"
     ]
    },
    {
     "name": "stderr",
     "output_type": "stream",
     "text": [
      "Processing: 100%|██████████| 5/5 [00:00<00:00, 15.42iteration/s]\n"
     ]
    },
    {
     "name": "stdout",
     "output_type": "stream",
     "text": [
      "Converting Data to Dataframe.\n",
      "This May Take a While. Progress Bar shows Completion of Data Retrieval.\n"
     ]
    },
    {
     "name": "stderr",
     "output_type": "stream",
     "text": [
      "Processing: 100%|██████████| 5/5 [00:00<00:00, 16.75iteration/s]\n"
     ]
    },
    {
     "name": "stdout",
     "output_type": "stream",
     "text": [
      "Converting Data to Dataframe.\n",
      "This May Take a While. Progress Bar shows Completion of Data Retrieval.\n"
     ]
    },
    {
     "name": "stderr",
     "output_type": "stream",
     "text": [
      "Processing: 100%|██████████| 5/5 [00:00<00:00, 17.16iteration/s]\n"
     ]
    },
    {
     "name": "stdout",
     "output_type": "stream",
     "text": [
      "Converting Data to Dataframe.\n",
      "This May Take a While. Progress Bar shows Completion of Data Retrieval.\n"
     ]
    },
    {
     "name": "stderr",
     "output_type": "stream",
     "text": [
      "Processing: 100%|██████████| 5/5 [00:00<00:00, 16.26iteration/s]\n"
     ]
    },
    {
     "name": "stdout",
     "output_type": "stream",
     "text": [
      "Converting Data to Dataframe.\n",
      "This May Take a While. Progress Bar shows Completion of Data Retrieval.\n"
     ]
    },
    {
     "name": "stderr",
     "output_type": "stream",
     "text": [
      "Processing: 100%|██████████| 4/4 [00:00<00:00, 14.71iteration/s]\n"
     ]
    },
    {
     "name": "stdout",
     "output_type": "stream",
     "text": [
      "Converting Data to Dataframe.\n",
      "This May Take a While. Progress Bar shows Completion of Data Retrieval.\n"
     ]
    },
    {
     "name": "stderr",
     "output_type": "stream",
     "text": [
      "Processing: 100%|██████████| 5/5 [00:00<00:00, 16.38iteration/s]\n"
     ]
    },
    {
     "name": "stdout",
     "output_type": "stream",
     "text": [
      "Converting Data to Dataframe.\n",
      "This May Take a While. Progress Bar shows Completion of Data Retrieval.\n"
     ]
    },
    {
     "name": "stderr",
     "output_type": "stream",
     "text": [
      "Processing: 100%|██████████| 4/4 [00:00<00:00, 13.91iteration/s]\n"
     ]
    },
    {
     "name": "stdout",
     "output_type": "stream",
     "text": [
      "Converting Data to Dataframe.\n",
      "This May Take a While. Progress Bar shows Completion of Data Retrieval.\n"
     ]
    },
    {
     "name": "stderr",
     "output_type": "stream",
     "text": [
      "Processing: 100%|██████████| 5/5 [00:00<00:00, 16.34iteration/s]\n"
     ]
    },
    {
     "name": "stdout",
     "output_type": "stream",
     "text": [
      "Converting Data to Dataframe.\n",
      "This May Take a While. Progress Bar shows Completion of Data Retrieval.\n"
     ]
    },
    {
     "name": "stderr",
     "output_type": "stream",
     "text": [
      "Processing: 100%|██████████| 5/5 [00:00<00:00, 18.34iteration/s]\n"
     ]
    },
    {
     "name": "stdout",
     "output_type": "stream",
     "text": [
      "Converting Data to Dataframe.\n",
      "This May Take a While. Progress Bar shows Completion of Data Retrieval.\n"
     ]
    },
    {
     "name": "stderr",
     "output_type": "stream",
     "text": [
      "Processing: 100%|██████████| 4/4 [00:00<00:00, 12.33iteration/s]\n"
     ]
    },
    {
     "name": "stdout",
     "output_type": "stream",
     "text": [
      "Converting Data to Dataframe.\n",
      "This May Take a While. Progress Bar shows Completion of Data Retrieval.\n"
     ]
    },
    {
     "name": "stderr",
     "output_type": "stream",
     "text": [
      "Processing: 100%|██████████| 5/5 [00:00<00:00, 16.67iteration/s]\n"
     ]
    },
    {
     "name": "stdout",
     "output_type": "stream",
     "text": [
      "Converting Data to Dataframe.\n",
      "This May Take a While. Progress Bar shows Completion of Data Retrieval.\n"
     ]
    },
    {
     "name": "stderr",
     "output_type": "stream",
     "text": [
      "Processing: 100%|██████████| 5/5 [00:00<00:00, 16.40iteration/s]\n"
     ]
    },
    {
     "name": "stdout",
     "output_type": "stream",
     "text": [
      "Converting Data to Dataframe.\n",
      "This May Take a While. Progress Bar shows Completion of Data Retrieval.\n"
     ]
    },
    {
     "name": "stderr",
     "output_type": "stream",
     "text": [
      "Processing: 100%|██████████| 4/4 [00:00<00:00, 12.75iteration/s]\n"
     ]
    },
    {
     "name": "stdout",
     "output_type": "stream",
     "text": [
      "Converting Data to Dataframe.\n",
      "This May Take a While. Progress Bar shows Completion of Data Retrieval.\n"
     ]
    },
    {
     "name": "stderr",
     "output_type": "stream",
     "text": [
      "Processing: 100%|██████████| 5/5 [00:00<00:00, 16.85iteration/s]\n"
     ]
    },
    {
     "name": "stdout",
     "output_type": "stream",
     "text": [
      "Converting Data to Dataframe.\n",
      "This May Take a While. Progress Bar shows Completion of Data Retrieval.\n"
     ]
    },
    {
     "name": "stderr",
     "output_type": "stream",
     "text": [
      "Processing: 100%|██████████| 4/4 [00:00<00:00, 13.01iteration/s]\n"
     ]
    },
    {
     "name": "stdout",
     "output_type": "stream",
     "text": [
      "Converting Data to Dataframe.\n",
      "This May Take a While. Progress Bar shows Completion of Data Retrieval.\n"
     ]
    },
    {
     "name": "stderr",
     "output_type": "stream",
     "text": [
      "Processing: 100%|██████████| 5/5 [00:00<00:00, 16.16iteration/s]\n"
     ]
    },
    {
     "name": "stdout",
     "output_type": "stream",
     "text": [
      "Converting Data to Dataframe.\n",
      "This May Take a While. Progress Bar shows Completion of Data Retrieval.\n"
     ]
    },
    {
     "name": "stderr",
     "output_type": "stream",
     "text": [
      "Processing: 100%|██████████| 5/5 [00:00<00:00, 17.57iteration/s]\n"
     ]
    },
    {
     "name": "stdout",
     "output_type": "stream",
     "text": [
      "Converting Data to Dataframe.\n",
      "This May Take a While. Progress Bar shows Completion of Data Retrieval.\n"
     ]
    },
    {
     "name": "stderr",
     "output_type": "stream",
     "text": [
      "Processing: 100%|██████████| 5/5 [00:00<00:00, 18.04iteration/s]\n"
     ]
    },
    {
     "name": "stdout",
     "output_type": "stream",
     "text": [
      "Converting Data to Dataframe.\n",
      "This May Take a While. Progress Bar shows Completion of Data Retrieval.\n"
     ]
    },
    {
     "name": "stderr",
     "output_type": "stream",
     "text": [
      "Processing: 100%|██████████| 4/4 [00:00<00:00, 13.69iteration/s]\n"
     ]
    },
    {
     "name": "stdout",
     "output_type": "stream",
     "text": [
      "Converting Data to Dataframe.\n",
      "This May Take a While. Progress Bar shows Completion of Data Retrieval.\n"
     ]
    },
    {
     "name": "stderr",
     "output_type": "stream",
     "text": [
      "Processing: 100%|██████████| 5/5 [00:00<00:00, 18.74iteration/s]\n"
     ]
    },
    {
     "name": "stdout",
     "output_type": "stream",
     "text": [
      "Converting Data to Dataframe.\n",
      "This May Take a While. Progress Bar shows Completion of Data Retrieval.\n"
     ]
    },
    {
     "name": "stderr",
     "output_type": "stream",
     "text": [
      "Processing: 100%|██████████| 5/5 [00:00<00:00, 16.23iteration/s]\n"
     ]
    },
    {
     "name": "stdout",
     "output_type": "stream",
     "text": [
      "Converting Data to Dataframe.\n",
      "This May Take a While. Progress Bar shows Completion of Data Retrieval.\n"
     ]
    },
    {
     "name": "stderr",
     "output_type": "stream",
     "text": [
      "Processing: 100%|██████████| 5/5 [00:00<00:00, 14.90iteration/s]\n"
     ]
    },
    {
     "name": "stdout",
     "output_type": "stream",
     "text": [
      "Converting Data to Dataframe.\n",
      "This May Take a While. Progress Bar shows Completion of Data Retrieval.\n"
     ]
    },
    {
     "name": "stderr",
     "output_type": "stream",
     "text": [
      "Processing: 100%|██████████| 5/5 [00:00<00:00, 16.97iteration/s]\n"
     ]
    },
    {
     "name": "stdout",
     "output_type": "stream",
     "text": [
      "Converting Data to Dataframe.\n",
      "This May Take a While. Progress Bar shows Completion of Data Retrieval.\n"
     ]
    },
    {
     "name": "stderr",
     "output_type": "stream",
     "text": [
      "Processing: 100%|██████████| 4/4 [00:00<00:00, 14.28iteration/s]\n"
     ]
    },
    {
     "name": "stdout",
     "output_type": "stream",
     "text": [
      "Converting Data to Dataframe.\n",
      "This May Take a While. Progress Bar shows Completion of Data Retrieval.\n"
     ]
    },
    {
     "name": "stderr",
     "output_type": "stream",
     "text": [
      "Processing: 100%|██████████| 4/4 [00:00<00:00, 14.21iteration/s]\n"
     ]
    },
    {
     "name": "stdout",
     "output_type": "stream",
     "text": [
      "Converting Data to Dataframe.\n",
      "This May Take a While. Progress Bar shows Completion of Data Retrieval.\n"
     ]
    },
    {
     "name": "stderr",
     "output_type": "stream",
     "text": [
      "Processing: 100%|██████████| 4/4 [00:00<00:00, 12.78iteration/s]\n"
     ]
    },
    {
     "name": "stdout",
     "output_type": "stream",
     "text": [
      "Converting Data to Dataframe.\n",
      "This May Take a While. Progress Bar shows Completion of Data Retrieval.\n"
     ]
    },
    {
     "name": "stderr",
     "output_type": "stream",
     "text": [
      "Processing: 100%|██████████| 4/4 [00:00<00:00, 13.92iteration/s]\n"
     ]
    },
    {
     "name": "stdout",
     "output_type": "stream",
     "text": [
      "Converting Data to Dataframe.\n",
      "This May Take a While. Progress Bar shows Completion of Data Retrieval.\n"
     ]
    },
    {
     "name": "stderr",
     "output_type": "stream",
     "text": [
      "Processing: 100%|██████████| 4/4 [00:00<00:00, 13.11iteration/s]\n"
     ]
    },
    {
     "name": "stdout",
     "output_type": "stream",
     "text": [
      "Converting Data to Dataframe.\n",
      "This May Take a While. Progress Bar shows Completion of Data Retrieval.\n"
     ]
    },
    {
     "name": "stderr",
     "output_type": "stream",
     "text": [
      "Processing: 100%|██████████| 5/5 [00:00<00:00, 16.19iteration/s]\n"
     ]
    },
    {
     "name": "stdout",
     "output_type": "stream",
     "text": [
      "Converting Data to Dataframe.\n",
      "This May Take a While. Progress Bar shows Completion of Data Retrieval.\n"
     ]
    },
    {
     "name": "stderr",
     "output_type": "stream",
     "text": [
      "Processing: 100%|██████████| 4/4 [00:00<00:00, 15.13iteration/s]\n"
     ]
    },
    {
     "name": "stdout",
     "output_type": "stream",
     "text": [
      "Converting Data to Dataframe.\n",
      "This May Take a While. Progress Bar shows Completion of Data Retrieval.\n"
     ]
    },
    {
     "name": "stderr",
     "output_type": "stream",
     "text": [
      "Processing: 100%|██████████| 5/5 [00:00<00:00, 17.09iteration/s]\n"
     ]
    },
    {
     "name": "stdout",
     "output_type": "stream",
     "text": [
      "Converting Data to Dataframe.\n",
      "This May Take a While. Progress Bar shows Completion of Data Retrieval.\n"
     ]
    },
    {
     "name": "stderr",
     "output_type": "stream",
     "text": [
      "Processing: 100%|██████████| 4/4 [00:00<00:00, 12.85iteration/s]\n"
     ]
    },
    {
     "name": "stdout",
     "output_type": "stream",
     "text": [
      "Converting Data to Dataframe.\n",
      "This May Take a While. Progress Bar shows Completion of Data Retrieval.\n"
     ]
    },
    {
     "name": "stderr",
     "output_type": "stream",
     "text": [
      "Processing: 100%|██████████| 4/4 [00:00<00:00, 14.05iteration/s]\n"
     ]
    },
    {
     "name": "stdout",
     "output_type": "stream",
     "text": [
      "Converting Data to Dataframe.\n",
      "This May Take a While. Progress Bar shows Completion of Data Retrieval.\n"
     ]
    },
    {
     "name": "stderr",
     "output_type": "stream",
     "text": [
      "Processing: 100%|██████████| 4/4 [00:00<00:00, 12.78iteration/s]\n"
     ]
    },
    {
     "name": "stdout",
     "output_type": "stream",
     "text": [
      "Converting Data to Dataframe.\n",
      "This May Take a While. Progress Bar shows Completion of Data Retrieval.\n"
     ]
    },
    {
     "name": "stderr",
     "output_type": "stream",
     "text": [
      "Processing: 100%|██████████| 5/5 [00:00<00:00, 16.65iteration/s]\n"
     ]
    },
    {
     "name": "stdout",
     "output_type": "stream",
     "text": [
      "Converting Data to Dataframe.\n",
      "This May Take a While. Progress Bar shows Completion of Data Retrieval.\n"
     ]
    },
    {
     "name": "stderr",
     "output_type": "stream",
     "text": [
      "Processing: 100%|██████████| 4/4 [00:00<00:00, 12.54iteration/s]\n"
     ]
    },
    {
     "name": "stdout",
     "output_type": "stream",
     "text": [
      "Converting Data to Dataframe.\n",
      "This May Take a While. Progress Bar shows Completion of Data Retrieval.\n"
     ]
    },
    {
     "name": "stderr",
     "output_type": "stream",
     "text": [
      "Processing: 100%|██████████| 5/5 [00:00<00:00, 17.82iteration/s]\n"
     ]
    },
    {
     "name": "stdout",
     "output_type": "stream",
     "text": [
      "Converting Data to Dataframe.\n",
      "This May Take a While. Progress Bar shows Completion of Data Retrieval.\n"
     ]
    },
    {
     "name": "stderr",
     "output_type": "stream",
     "text": [
      "Processing: 100%|██████████| 4/4 [00:00<00:00, 14.84iteration/s]\n"
     ]
    },
    {
     "name": "stdout",
     "output_type": "stream",
     "text": [
      "Converting Data to Dataframe.\n",
      "This May Take a While. Progress Bar shows Completion of Data Retrieval.\n"
     ]
    },
    {
     "name": "stderr",
     "output_type": "stream",
     "text": [
      "Processing: 100%|██████████| 5/5 [00:00<00:00, 18.12iteration/s]\n"
     ]
    },
    {
     "name": "stdout",
     "output_type": "stream",
     "text": [
      "Converting Data to Dataframe.\n",
      "This May Take a While. Progress Bar shows Completion of Data Retrieval.\n"
     ]
    },
    {
     "name": "stderr",
     "output_type": "stream",
     "text": [
      "Processing: 100%|██████████| 5/5 [00:00<00:00, 16.62iteration/s]\n"
     ]
    },
    {
     "name": "stdout",
     "output_type": "stream",
     "text": [
      "Converting Data to Dataframe.\n",
      "This May Take a While. Progress Bar shows Completion of Data Retrieval.\n"
     ]
    },
    {
     "name": "stderr",
     "output_type": "stream",
     "text": [
      "Processing: 100%|██████████| 4/4 [00:00<00:00, 13.67iteration/s]\n"
     ]
    },
    {
     "name": "stdout",
     "output_type": "stream",
     "text": [
      "Converting Data to Dataframe.\n",
      "This May Take a While. Progress Bar shows Completion of Data Retrieval.\n"
     ]
    },
    {
     "name": "stderr",
     "output_type": "stream",
     "text": [
      "Processing: 100%|██████████| 4/4 [00:00<00:00, 11.76iteration/s]\n"
     ]
    },
    {
     "name": "stdout",
     "output_type": "stream",
     "text": [
      "Converting Data to Dataframe.\n",
      "This May Take a While. Progress Bar shows Completion of Data Retrieval.\n"
     ]
    },
    {
     "name": "stderr",
     "output_type": "stream",
     "text": [
      "Processing: 100%|██████████| 4/4 [00:00<00:00, 13.23iteration/s]\n"
     ]
    },
    {
     "name": "stdout",
     "output_type": "stream",
     "text": [
      "Converting Data to Dataframe.\n",
      "This May Take a While. Progress Bar shows Completion of Data Retrieval.\n"
     ]
    },
    {
     "name": "stderr",
     "output_type": "stream",
     "text": [
      "Processing: 100%|██████████| 5/5 [00:00<00:00, 15.57iteration/s]\n"
     ]
    },
    {
     "name": "stdout",
     "output_type": "stream",
     "text": [
      "Converting Data to Dataframe.\n",
      "This May Take a While. Progress Bar shows Completion of Data Retrieval.\n"
     ]
    },
    {
     "name": "stderr",
     "output_type": "stream",
     "text": [
      "Processing: 100%|██████████| 5/5 [00:00<00:00, 18.99iteration/s]\n"
     ]
    },
    {
     "name": "stdout",
     "output_type": "stream",
     "text": [
      "Converting Data to Dataframe.\n",
      "This May Take a While. Progress Bar shows Completion of Data Retrieval.\n"
     ]
    },
    {
     "name": "stderr",
     "output_type": "stream",
     "text": [
      "Processing: 100%|██████████| 5/5 [00:00<00:00, 15.75iteration/s]\n"
     ]
    },
    {
     "name": "stdout",
     "output_type": "stream",
     "text": [
      "Converting Data to Dataframe.\n",
      "This May Take a While. Progress Bar shows Completion of Data Retrieval.\n"
     ]
    },
    {
     "name": "stderr",
     "output_type": "stream",
     "text": [
      "Processing: 100%|██████████| 5/5 [00:00<00:00, 17.96iteration/s]\n"
     ]
    },
    {
     "name": "stdout",
     "output_type": "stream",
     "text": [
      "Converting Data to Dataframe.\n",
      "This May Take a While. Progress Bar shows Completion of Data Retrieval.\n"
     ]
    },
    {
     "name": "stderr",
     "output_type": "stream",
     "text": [
      "Processing: 100%|██████████| 5/5 [00:00<00:00, 17.32iteration/s]\n"
     ]
    },
    {
     "name": "stdout",
     "output_type": "stream",
     "text": [
      "Converting Data to Dataframe.\n",
      "This May Take a While. Progress Bar shows Completion of Data Retrieval.\n"
     ]
    },
    {
     "name": "stderr",
     "output_type": "stream",
     "text": [
      "Processing: 100%|██████████| 5/5 [00:00<00:00, 16.34iteration/s]\n"
     ]
    },
    {
     "name": "stdout",
     "output_type": "stream",
     "text": [
      "Converting Data to Dataframe.\n",
      "This May Take a While. Progress Bar shows Completion of Data Retrieval.\n"
     ]
    },
    {
     "name": "stderr",
     "output_type": "stream",
     "text": [
      "Processing: 100%|██████████| 5/5 [00:00<00:00, 16.64iteration/s]\n"
     ]
    },
    {
     "name": "stdout",
     "output_type": "stream",
     "text": [
      "Converting Data to Dataframe.\n",
      "No pitching games found for player 112116 in season 2025\n",
      "This May Take a While. Progress Bar shows Completion of Data Retrieval.\n"
     ]
    },
    {
     "name": "stderr",
     "output_type": "stream",
     "text": [
      "Processing: 100%|██████████| 5/5 [00:00<00:00, 12.00iteration/s]\n"
     ]
    },
    {
     "name": "stdout",
     "output_type": "stream",
     "text": [
      "Converting Data to Dataframe.\n",
      "This May Take a While. Progress Bar shows Completion of Data Retrieval.\n"
     ]
    },
    {
     "name": "stderr",
     "output_type": "stream",
     "text": [
      "Processing: 100%|██████████| 5/5 [00:00<00:00, 14.09iteration/s]\n"
     ]
    },
    {
     "name": "stdout",
     "output_type": "stream",
     "text": [
      "Converting Data to Dataframe.\n",
      "This May Take a While. Progress Bar shows Completion of Data Retrieval.\n"
     ]
    },
    {
     "name": "stderr",
     "output_type": "stream",
     "text": [
      "Processing: 100%|██████████| 5/5 [00:00<00:00, 26.81iteration/s]\n"
     ]
    },
    {
     "name": "stdout",
     "output_type": "stream",
     "text": [
      "Converting Data to Dataframe.\n",
      "This May Take a While. Progress Bar shows Completion of Data Retrieval.\n"
     ]
    },
    {
     "name": "stderr",
     "output_type": "stream",
     "text": [
      "Processing: 100%|██████████| 4/4 [00:00<00:00, 13.97iteration/s]\n"
     ]
    },
    {
     "name": "stdout",
     "output_type": "stream",
     "text": [
      "Converting Data to Dataframe.\n",
      "This May Take a While. Progress Bar shows Completion of Data Retrieval.\n"
     ]
    },
    {
     "name": "stderr",
     "output_type": "stream",
     "text": [
      "Processing: 100%|██████████| 5/5 [00:00<00:00, 17.10iteration/s]\n"
     ]
    },
    {
     "name": "stdout",
     "output_type": "stream",
     "text": [
      "Converting Data to Dataframe.\n",
      "This May Take a While. Progress Bar shows Completion of Data Retrieval.\n"
     ]
    },
    {
     "name": "stderr",
     "output_type": "stream",
     "text": [
      "Processing: 100%|██████████| 4/4 [00:00<00:00, 12.45iteration/s]\n"
     ]
    },
    {
     "name": "stdout",
     "output_type": "stream",
     "text": [
      "Converting Data to Dataframe.\n",
      "This May Take a While. Progress Bar shows Completion of Data Retrieval.\n"
     ]
    },
    {
     "name": "stderr",
     "output_type": "stream",
     "text": [
      "Processing: 100%|██████████| 5/5 [00:00<00:00, 18.24iteration/s]\n"
     ]
    },
    {
     "name": "stdout",
     "output_type": "stream",
     "text": [
      "Converting Data to Dataframe.\n",
      "No pitching games found for player 656814 in season 2025\n",
      "This May Take a While. Progress Bar shows Completion of Data Retrieval.\n"
     ]
    },
    {
     "name": "stderr",
     "output_type": "stream",
     "text": [
      "Processing: 100%|██████████| 4/4 [00:00<00:00, 13.92iteration/s]\n"
     ]
    },
    {
     "name": "stdout",
     "output_type": "stream",
     "text": [
      "Converting Data to Dataframe.\n",
      "This May Take a While. Progress Bar shows Completion of Data Retrieval.\n"
     ]
    },
    {
     "name": "stderr",
     "output_type": "stream",
     "text": [
      "Processing: 100%|██████████| 5/5 [00:00<00:00, 15.21iteration/s]\n"
     ]
    },
    {
     "name": "stdout",
     "output_type": "stream",
     "text": [
      "Converting Data to Dataframe.\n",
      "This May Take a While. Progress Bar shows Completion of Data Retrieval.\n"
     ]
    },
    {
     "name": "stderr",
     "output_type": "stream",
     "text": [
      "Processing: 100%|██████████| 5/5 [00:00<00:00, 18.14iteration/s]\n"
     ]
    },
    {
     "name": "stdout",
     "output_type": "stream",
     "text": [
      "Converting Data to Dataframe.\n",
      "This May Take a While. Progress Bar shows Completion of Data Retrieval.\n"
     ]
    },
    {
     "name": "stderr",
     "output_type": "stream",
     "text": [
      "Processing: 100%|██████████| 4/4 [00:00<00:00, 14.28iteration/s]\n"
     ]
    },
    {
     "name": "stdout",
     "output_type": "stream",
     "text": [
      "Converting Data to Dataframe.\n",
      "This May Take a While. Progress Bar shows Completion of Data Retrieval.\n"
     ]
    },
    {
     "name": "stderr",
     "output_type": "stream",
     "text": [
      "Processing: 100%|██████████| 5/5 [00:00<00:00, 14.92iteration/s]\n"
     ]
    },
    {
     "name": "stdout",
     "output_type": "stream",
     "text": [
      "Converting Data to Dataframe.\n",
      "This May Take a While. Progress Bar shows Completion of Data Retrieval.\n"
     ]
    },
    {
     "name": "stderr",
     "output_type": "stream",
     "text": [
      "Processing: 100%|██████████| 4/4 [00:00<00:00, 13.02iteration/s]\n"
     ]
    },
    {
     "name": "stdout",
     "output_type": "stream",
     "text": [
      "Converting Data to Dataframe.\n",
      "This May Take a While. Progress Bar shows Completion of Data Retrieval.\n"
     ]
    },
    {
     "name": "stderr",
     "output_type": "stream",
     "text": [
      "Processing: 100%|██████████| 5/5 [00:00<00:00, 15.32iteration/s]\n"
     ]
    },
    {
     "name": "stdout",
     "output_type": "stream",
     "text": [
      "Converting Data to Dataframe.\n",
      "This May Take a While. Progress Bar shows Completion of Data Retrieval.\n"
     ]
    },
    {
     "name": "stderr",
     "output_type": "stream",
     "text": [
      "Processing: 100%|██████████| 5/5 [00:00<00:00, 18.67iteration/s]\n"
     ]
    },
    {
     "name": "stdout",
     "output_type": "stream",
     "text": [
      "Converting Data to Dataframe.\n",
      "This May Take a While. Progress Bar shows Completion of Data Retrieval.\n"
     ]
    },
    {
     "name": "stderr",
     "output_type": "stream",
     "text": [
      "Processing: 100%|██████████| 4/4 [00:00<00:00, 15.23iteration/s]\n"
     ]
    },
    {
     "name": "stdout",
     "output_type": "stream",
     "text": [
      "Converting Data to Dataframe.\n",
      "This May Take a While. Progress Bar shows Completion of Data Retrieval.\n"
     ]
    },
    {
     "name": "stderr",
     "output_type": "stream",
     "text": [
      "Processing: 100%|██████████| 4/4 [00:00<00:00, 13.41iteration/s]\n"
     ]
    },
    {
     "name": "stdout",
     "output_type": "stream",
     "text": [
      "Converting Data to Dataframe.\n",
      "This May Take a While. Progress Bar shows Completion of Data Retrieval.\n"
     ]
    },
    {
     "name": "stderr",
     "output_type": "stream",
     "text": [
      "Processing: 100%|██████████| 4/4 [00:00<00:00, 14.69iteration/s]\n"
     ]
    },
    {
     "name": "stdout",
     "output_type": "stream",
     "text": [
      "Converting Data to Dataframe.\n",
      "This May Take a While. Progress Bar shows Completion of Data Retrieval.\n"
     ]
    },
    {
     "name": "stderr",
     "output_type": "stream",
     "text": [
      "Processing: 100%|██████████| 5/5 [00:00<00:00, 18.02iteration/s]\n"
     ]
    },
    {
     "name": "stdout",
     "output_type": "stream",
     "text": [
      "Converting Data to Dataframe.\n",
      "This May Take a While. Progress Bar shows Completion of Data Retrieval.\n"
     ]
    },
    {
     "name": "stderr",
     "output_type": "stream",
     "text": [
      "Processing: 100%|██████████| 4/4 [00:00<00:00, 13.62iteration/s]\n"
     ]
    },
    {
     "name": "stdout",
     "output_type": "stream",
     "text": [
      "Converting Data to Dataframe.\n",
      "This May Take a While. Progress Bar shows Completion of Data Retrieval.\n"
     ]
    },
    {
     "name": "stderr",
     "output_type": "stream",
     "text": [
      "Processing: 100%|██████████| 5/5 [00:00<00:00, 16.39iteration/s]\n"
     ]
    },
    {
     "name": "stdout",
     "output_type": "stream",
     "text": [
      "Converting Data to Dataframe.\n",
      "This May Take a While. Progress Bar shows Completion of Data Retrieval.\n"
     ]
    },
    {
     "name": "stderr",
     "output_type": "stream",
     "text": [
      "Processing: 100%|██████████| 5/5 [00:00<00:00, 18.04iteration/s]\n"
     ]
    },
    {
     "name": "stdout",
     "output_type": "stream",
     "text": [
      "Converting Data to Dataframe.\n",
      "This May Take a While. Progress Bar shows Completion of Data Retrieval.\n"
     ]
    },
    {
     "name": "stderr",
     "output_type": "stream",
     "text": [
      "Processing: 100%|██████████| 5/5 [00:00<00:00, 18.01iteration/s]\n",
      "/tmp/ipykernel_81723/2847549123.py:135: FutureWarning: Downcasting object dtype arrays on .fillna, .ffill, .bfill is deprecated and will change in a future version. Call result.infer_objects(copy=False) instead. To opt-in to the future behavior, set `pd.set_option('future.no_silent_downcasting', True)`\n",
      "  d['is_swing_bin'] = d['is_swing'].fillna(False).astype(int)\n"
     ]
    },
    {
     "name": "stdout",
     "output_type": "stream",
     "text": [
      "Converting Data to Dataframe.\n",
      "                     Name  Season  cywin_prob\n",
      "20          Hunter Greene    2025    0.077411\n",
      "47  Spencer Schwellenbach    2025    0.067181\n",
      "32         Framber Valdez    2025    0.041975\n",
      "5             Cole Ragans    2025    0.036838\n",
      "48          Luis Severino    2025    0.036777\n",
      "..                    ...     ...         ...\n",
      "53           Carlos Rodon    2025    0.002623\n",
      "15            Clay Holmes    2025    0.002415\n",
      "57         Tyler Anderson    2025    0.002197\n",
      "26           Michael King    2025    0.002078\n",
      "19         Freddy Peralta    2025    0.001323\n",
      "\n",
      "[77 rows x 3 columns]\n"
     ]
    }
   ],
   "source": [
    "import numpy as np\n",
    "import pandas as pd\n",
    "import datetime\n",
    "import unicodedata\n",
    "import statsapi\n",
    "\n",
    "from data_scraper import MLB_Scrape\n",
    "from pybaseball import pitching_stats, playerid_lookup\n",
    "\n",
    "# Level 1 imports\n",
    "from sklearn.model_selection import train_test_split, RandomizedSearchCV\n",
    "from sklearn.ensemble import RandomForestClassifier, RandomForestRegressor\n",
    "from sklearn.preprocessing import OneHotEncoder, StandardScaler\n",
    "from sklearn.compose import ColumnTransformer\n",
    "from sklearn.pipeline import Pipeline\n",
    "from sklearn.metrics import (\n",
    "    accuracy_score, roc_auc_score, classification_report,\n",
    "    mean_squared_error, r2_score\n",
    ")\n",
    "\n",
    "# Level 2 imports\n",
    "import keras_tuner as kt\n",
    "from tensorflow.keras import layers, models\n",
    "from tensorflow.keras.optimizers import Adam\n",
    "\n",
    "# Level 3 imports\n",
    "import pymc as pm\n",
    "\n",
    "# Meta imports\n",
    "from sklearn.impute import SimpleImputer\n",
    "from sklearn.linear_model import LogisticRegression\n",
    "from sklearn.model_selection import GridSearchCV\n",
    "\n",
    "\n",
    "def train_pitch_level_models(df: pd.DataFrame):\n",
    "    df = df.copy()\n",
    "    df['is_swing_bin'] = df['is_swing'].fillna(False).astype(int)\n",
    "\n",
    "    num_cols = [\n",
    "        'start_speed','end_speed','extension','spin_rate',\n",
    "        'pfxx','pfxz','vx0','vy0','vz0','sz_top','sz_bot'\n",
    "    ]\n",
    "    cat_cols = ['pitch_type','batter_hand','pitcher_hand']\n",
    "    feats    = num_cols + cat_cols\n",
    "\n",
    "    # ── Swing classifier tuning ──\n",
    "    swing_pipe = RandomizedSearchCV(\n",
    "        Pipeline([\n",
    "            ('pre', ColumnTransformer([\n",
    "                ('num', StandardScaler(), num_cols),\n",
    "                ('cat', OneHotEncoder(handle_unknown='ignore', sparse_output=False), cat_cols)\n",
    "            ])),\n",
    "            ('clf', RandomForestClassifier(random_state=42))\n",
    "        ]),\n",
    "        {\n",
    "            'clf__n_estimators': [100,200,300],\n",
    "            'clf__max_depth':    [None,10,20,30],\n",
    "            'clf__min_samples_split': [2,5,10]\n",
    "        },\n",
    "        n_iter=8, cv=3, scoring='roc_auc', n_jobs=-1, random_state=42\n",
    "    )\n",
    "    Xs, ys = df[feats], df['is_swing_bin']\n",
    "    Xs_tr, Xs_v, ys_tr, ys_v = train_test_split(\n",
    "        Xs, ys, stratify=ys, test_size=0.2, random_state=42\n",
    "    )\n",
    "    swing_pipe.fit(Xs_tr, ys_tr)\n",
    "\n",
    "    # ── Whiff classifier tuning ──\n",
    "    swings = df[df['is_swing_bin']==1]\n",
    "    whiff_pipe = RandomizedSearchCV(\n",
    "        Pipeline([\n",
    "            ('pre', ColumnTransformer([\n",
    "                ('num', StandardScaler(), num_cols),\n",
    "                ('cat', OneHotEncoder(handle_unknown='ignore', sparse_output=False), cat_cols)\n",
    "            ])),\n",
    "            ('clf', RandomForestClassifier(random_state=42))\n",
    "        ]),\n",
    "        {\n",
    "            'clf__n_estimators': [100,200,300],\n",
    "            'clf__max_depth':    [None,10,20],\n",
    "            'clf__min_samples_leaf': [1,2,4]\n",
    "        },\n",
    "        n_iter=8, cv=3, scoring='roc_auc', n_jobs=-1, random_state=42\n",
    "    )\n",
    "    Xw = swings[feats]\n",
    "    yw = swings['is_whiff'].fillna(False).astype(int)\n",
    "    Xw_tr, Xw_v, yw_tr, yw_v = train_test_split(\n",
    "        Xw, yw, stratify=yw, test_size=0.2, random_state=42\n",
    "    )\n",
    "    whiff_pipe.fit(Xw_tr, yw_tr)\n",
    "\n",
    "    # ── Exit‑velocity regressor tuning ──\n",
    "    hits = swings[~swings['is_whiff'].fillna(False)].dropna(subset=['launch_speed'])\n",
    "    exit_pipe = RandomizedSearchCV(\n",
    "        Pipeline([\n",
    "            ('pre', ColumnTransformer([\n",
    "                ('num', StandardScaler(), num_cols),\n",
    "                ('cat', OneHotEncoder(handle_unknown='ignore', sparse_output=False), cat_cols)\n",
    "            ])),\n",
    "            ('reg', RandomForestRegressor(random_state=42))\n",
    "        ]),\n",
    "        {\n",
    "            'reg__n_estimators': [100,200,300],\n",
    "            'reg__max_depth':    [None,10,20],\n",
    "            'reg__min_samples_split': [2,5,10]\n",
    "        },\n",
    "        n_iter=8, cv=3, scoring='neg_mean_squared_error', n_jobs=-1, random_state=42\n",
    "    )\n",
    "    Xh, yh = hits[feats], hits['launch_speed']\n",
    "    Xh_tr, Xh_v, yh_tr, yh_v = train_test_split(\n",
    "        Xh, yh, test_size=0.2, random_state=42\n",
    "    )\n",
    "    exit_pipe.fit(Xh_tr, yh_tr)\n",
    "\n",
    "    # Level 1 metrics\n",
    "    print(\"== Level 1 Metrics ==\")\n",
    "    ys_pred = swing_pipe.predict(Xs_v)\n",
    "    ys_prob = swing_pipe.predict_proba(Xs_v)[:,1]\n",
    "    print(\"Swing:   Acc =\", accuracy_score(ys_v, ys_pred),\n",
    "          \"AUC =\", roc_auc_score(ys_v, ys_prob))\n",
    "    print(classification_report(ys_v, ys_pred))\n",
    "\n",
    "    yw_pred = whiff_pipe.predict(Xw_v)\n",
    "    yw_prob = whiff_pipe.predict_proba(Xw_v)[:,1]\n",
    "    print(\"Whiff:   Acc =\", accuracy_score(yw_v, yw_pred),\n",
    "          \"AUC =\", roc_auc_score(yw_v, yw_prob))\n",
    "    print(classification_report(yw_v, yw_pred))\n",
    "\n",
    "    yh_pred = exit_pipe.predict(Xh_v)\n",
    "    print(\"ExitVel: MSE =\", mean_squared_error(yh_v, yh_pred),\n",
    "          \"R² =\", r2_score(yh_v, yh_pred))\n",
    "\n",
    "    def compute_pitch_score(df_in: pd.DataFrame) -> pd.Series:\n",
    "        d = df_in.copy()\n",
    "        d['is_swing_bin'] = d['is_swing'].fillna(False).astype(int)\n",
    "        Xn = d[feats]\n",
    "        p_s = swing_pipe.predict_proba(Xn)[:,1]\n",
    "        p_w = np.zeros(len(d))\n",
    "        m   = d['is_swing_bin']==1\n",
    "        if m.any():\n",
    "            p_w[m] = whiff_pipe.predict_proba(Xn[m])[:,1]\n",
    "        e_e = np.zeros(len(d))\n",
    "        hm  = m & (p_w<1)\n",
    "        if hm.any():\n",
    "            e_e[hm] = exit_pipe.predict(Xn[hm])\n",
    "        return pd.Series(p_s*(1-p_w)*e_e, index=d.index)\n",
    "\n",
    "    return compute_pitch_score\n",
    "\n",
    "\n",
    "def prepare_game_sequences(df, feats, target, seq_len=5):\n",
    "    X, y, idxs = [], [], []\n",
    "    for (_, g) in df.groupby(['Name','Season']):\n",
    "        g = g.sort_values('game_date')\n",
    "        F, T = g[feats].values, g[target].values\n",
    "        for i in range(len(g)-seq_len):\n",
    "            X.append(F[i:i+seq_len])\n",
    "            y.append(T[i+seq_len])\n",
    "            idxs.append(g.index[i+seq_len])\n",
    "    return np.array(X), np.array(y), idxs\n",
    "\n",
    "\n",
    "def tune_game_level_lstm(Xtr, ytr, Xv, yv, seq_len, n_feat):\n",
    "    def build_model(hp):\n",
    "        m = models.Sequential([\n",
    "            layers.Masking(0., input_shape=(seq_len,n_feat)),\n",
    "            layers.LSTM(\n",
    "                units=hp.Choice('units',[16,32,64]),\n",
    "                dropout=hp.Choice('dropout',[0.0,0.2])\n",
    "            ),\n",
    "            layers.Dense(1)\n",
    "        ])\n",
    "        m.compile(\n",
    "            optimizer=Adam(learning_rate=hp.Choice('lr',[1e-3,1e-4])),\n",
    "            loss='mse'\n",
    "        )\n",
    "        return m\n",
    "\n",
    "    tuner = kt.RandomSearch(\n",
    "        build_model,\n",
    "        objective='val_loss',\n",
    "        max_trials=8,\n",
    "        executions_per_trial=1,\n",
    "        directory='lstm_tuning',\n",
    "        project_name='cy_model'\n",
    "    )\n",
    "    tuner.search(Xtr, ytr, epochs=20, validation_data=(Xv, yv), verbose=0)\n",
    "    best = tuner.get_best_models(1)[0]\n",
    "    mse  = best.evaluate(Xv, yv, verbose=0)\n",
    "    print(f\"== Level 2 LSTM val MSE: {mse:.4f} ==\")\n",
    "    return best\n",
    "\n",
    "\n",
    "def fit_bayesian_season_model(df):\n",
    "    pitchers = df['pitcher'].unique()\n",
    "    idx      = pd.Categorical(df['pitcher'], categories=pitchers).codes\n",
    "    with pm.Model() as m:\n",
    "        mu  = pm.Normal('mu',0,1)\n",
    "        sd  = pm.HalfNormal('sd',1)\n",
    "        a   = pm.Normal('a',mu=mu,sigma=sd,shape=len(pitchers))\n",
    "        eps = pm.HalfCauchy('eps',1)\n",
    "        pm.Normal('obs', mu=a[idx], sigma=eps, observed=df['metric'])\n",
    "        idata = pm.sample(1000, tune=1000, cores=2, target_accept=0.9)\n",
    "    return pitchers, idata.posterior['a'].mean(dim=('chain','draw')).values\n",
    "\n",
    "\n",
    "def train_meta_pipeline(meta_df: pd.DataFrame):\n",
    "    Xm = meta_df[['pitch_score_mean','rbi_pred_mean','bayes_effect']].values\n",
    "    Ys = meta_df['winner_flag'].values\n",
    "    pipe = Pipeline([\n",
    "        ('imp', SimpleImputer(strategy='mean')),\n",
    "        ('scaler', StandardScaler()),\n",
    "        ('clf', LogisticRegression(solver='liblinear'))\n",
    "    ])\n",
    "    gs = GridSearchCV(pipe, {'clf__C':[0.01,0.1,1,10]}, cv=5, scoring='roc_auc')\n",
    "    gs.fit(Xm, Ys)\n",
    "\n",
    "    yp = gs.predict(Xm)\n",
    "    pp = gs.predict_proba(Xm)[:,1]\n",
    "    print(\"== Meta-model Performance ==\")\n",
    "    print(\"Acc =\", accuracy_score(Ys, yp), \"AUC =\", roc_auc_score(Ys, pp))\n",
    "    return gs.best_estimator_\n",
    "\n",
    "\n",
    "def predict_cy_young(pipe, l1, l2, l3):\n",
    "    Xm = np.vstack([l1, l2, l3]).T\n",
    "    return pipe.predict_proba(Xm)[:,1]\n",
    "\n",
    "\n",
    "def get_mlbam_id(name: str) -> int:\n",
    "    nm = unicodedata.normalize(\"NFKD\", name).encode(\"ascii\",\"ignore\").decode()\n",
    "    parts = nm.split()\n",
    "    first, last = parts[0], parts[-1]\n",
    "    try:\n",
    "        df = playerid_lookup(last, first).dropna(subset=['key_mlbam'])\n",
    "        return int(df.iloc[0]['key_mlbam'])\n",
    "    except:\n",
    "        res = statsapi.lookup_player(name)\n",
    "        if res:\n",
    "            return int(res[0]['id'])\n",
    "    raise ValueError(f\"No MLBAM ID for {name!r}\")\n",
    "\n",
    "\n",
    "if __name__ == '__main__':\n",
    "    # Historical training\n",
    "    pitch_df   = pd.read_csv('pitch_level.csv', parse_dates=['game_date'])\n",
    "    game_df    = pd.read_csv('game_level.csv', parse_dates=['game_date'])\n",
    "    season_tot = pd.read_csv('season_totals.csv')\n",
    "    labels_df  = pd.read_csv('cy_young_labels.csv')  # Name,Season,winner_flag\n",
    "\n",
    "    # Level 1\n",
    "    compute_score = train_pitch_level_models(pitch_df)\n",
    "    pitch_df['pitch_score'] = compute_score(pitch_df)\n",
    "\n",
    "    # Level 2 prep\n",
    "    agg = (\n",
    "        pitch_df\n",
    "        .groupby(['game_id','game_date','Name','Season'])['pitch_score']\n",
    "        .mean().reset_index()\n",
    "        .rename(columns={'pitch_score':'pitch_score_mean'})\n",
    "    )\n",
    "    game_df = game_df.merge(agg,\n",
    "                            on=['game_id','game_date','Name','Season'])\n",
    "\n",
    "    # Level 2\n",
    "    feats, seq_len = ['pitch_score_mean'], 5\n",
    "    X, y, idxs = prepare_game_sequences(game_df, feats, 'rbi_mean', seq_len)\n",
    "    Xtr, Xv2, ytr, yv2 = train_test_split(X, y, test_size=0.2, random_state=42)\n",
    "    lstm = tune_game_level_lstm(Xtr, ytr, Xv2, yv2, seq_len, len(feats))\n",
    "    preds = lstm.predict(X).flatten()\n",
    "    game_df['rbi_pred'] = np.nan\n",
    "    game_df.loc[idxs, 'rbi_pred'] = preds\n",
    "\n",
    "    # Level 3\n",
    "    bayes_df = (\n",
    "        game_df[['Name','Season','rbi_pred']]\n",
    "        .rename(columns={'Name':'pitcher','rbi_pred':'metric'})\n",
    "    )\n",
    "    bayes_pitchers, bayes_a_mean = fit_bayesian_season_model(bayes_df)\n",
    "    season_tot['bayes_effect'] = season_tot['Name'].map(\n",
    "        dict(zip(bayes_pitchers, bayes_a_mean))\n",
    "    )\n",
    "\n",
    "    # Meta\n",
    "    p_seas = (\n",
    "        pitch_df\n",
    "        .groupby(['Name','Season'])['pitch_score']\n",
    "        .mean().reset_index()\n",
    "        .rename(columns={'pitch_score':'pitch_score_mean'})\n",
    "    )\n",
    "    r_seas = (\n",
    "        game_df\n",
    "        .groupby(['Name','Season'])['rbi_pred']\n",
    "        .mean().reset_index()\n",
    "        .rename(columns={'rbi_pred':'rbi_pred_mean'})\n",
    "    )\n",
    "    meta_df = (\n",
    "        season_tot\n",
    "        .merge(p_seas, on=['Name','Season'])\n",
    "        .merge(r_seas, on=['Name','Season'])\n",
    "        .merge(labels_df, on=['Name','Season'])\n",
    "    )\n",
    "    meta_pipeline = train_meta_pipeline(meta_df)\n",
    "\n",
    "    # — Scrape & predict current season —\n",
    "    CURRENT_YEAR = datetime.date.today().year\n",
    "    season_cur   = pitching_stats(CURRENT_YEAR)\n",
    "    season_cur['Season'] = CURRENT_YEAR\n",
    "\n",
    "    scraper = MLB_Scrape()\n",
    "    pitch_cur_list = []\n",
    "    for name in season_cur['Name']:\n",
    "        try:\n",
    "            pid = get_mlbam_id(name)\n",
    "        except ValueError:\n",
    "            continue\n",
    "        games = scraper.get_player_games_list(\n",
    "            player_id=pid,\n",
    "            season=CURRENT_YEAR,\n",
    "            start_date=f\"{CURRENT_YEAR}-03-01\",\n",
    "            end_date=f\"{CURRENT_YEAR}-11-30\",\n",
    "            sport_id=1,\n",
    "            game_type=['R'],\n",
    "            pitching=True\n",
    "        )\n",
    "        if not games:\n",
    "            continue\n",
    "        jsons = scraper.get_data(game_list_input=games)\n",
    "        df_raw = scraper.get_data_df(data_list=jsons)\n",
    "        df = getattr(df_raw, \"to_pandas\", lambda: df_raw)()\n",
    "        df = df[df['pitcher_id']==pid].copy()\n",
    "        df['Name'], df['Season'] = name, CURRENT_YEAR\n",
    "        pitch_cur_list.append(df)\n",
    "\n",
    "    if pitch_cur_list:\n",
    "        pitch_df_cur = pd.concat(pitch_cur_list, ignore_index=True)\n",
    "        pitch_df_cur['pitch_score'] = compute_score(pitch_df_cur)\n",
    "\n",
    "        game_df_cur = (\n",
    "            pitch_df_cur\n",
    "            .groupby(['game_id','game_date','Name','Season'])['rbi']\n",
    "            .mean().reset_index()\n",
    "            .rename(columns={'rbi':'rbi_mean'})\n",
    "        )\n",
    "        agg_cur = (\n",
    "            pitch_df_cur\n",
    "            .groupby(['game_id','game_date','Name','Season'])['pitch_score']\n",
    "            .mean().reset_index()\n",
    "            .rename(columns={'pitch_score':'pitch_score_mean'})\n",
    "        )\n",
    "        game_df_cur = game_df_cur.merge(\n",
    "            agg_cur,\n",
    "            on=['game_id','game_date','Name','Season']\n",
    "        )\n",
    "\n",
    "        # ensure rbi_pred exists before grouping\n",
    "        game_df_cur['rbi_pred'] = np.nan\n",
    "        Xc, _, idxs_c = prepare_game_sequences(game_df_cur, feats, 'rbi_mean', seq_len)\n",
    "        if len(Xc) > 0:\n",
    "            rbi_c = lstm.predict(Xc).flatten()\n",
    "            game_df_cur.loc[idxs_c, 'rbi_pred'] = rbi_c\n",
    "\n",
    "        season_cur['bayes_effect'] = season_cur['Name'].map(\n",
    "            dict(zip(bayes_pitchers, bayes_a_mean))\n",
    "        ).fillna(bayes_a_mean.mean())\n",
    "\n",
    "        rbi_cur_seas = (\n",
    "            game_df_cur\n",
    "            .groupby(['Name','Season'])['rbi_pred']\n",
    "            .mean().reset_index()\n",
    "            .rename(columns={'rbi_pred':'rbi_pred_mean'})\n",
    "        )\n",
    "        default_rbi = r_seas['rbi_pred_mean'].mean()\n",
    "        rbi_cur_seas['rbi_pred_mean'] = rbi_cur_seas['rbi_pred_mean'].fillna(default_rbi)\n",
    "\n",
    "        pitch_cur_seas = (\n",
    "            pitch_df_cur\n",
    "            .groupby(['Name','Season'])['pitch_score']\n",
    "            .mean().reset_index()\n",
    "            .rename(columns={'pitch_score':'pitch_score_mean'})\n",
    "        )\n",
    "\n",
    "        season_cur = (\n",
    "            season_cur\n",
    "            .merge(pitch_cur_seas, on=['Name','Season'])\n",
    "            .merge(rbi_cur_seas,    on=['Name','Season'])\n",
    "        )\n",
    "\n",
    "        L1c = season_cur['pitch_score_mean'].values\n",
    "        L2c = season_cur['rbi_pred_mean'].values\n",
    "        L3c = season_cur['bayes_effect'].values\n",
    "\n",
    "        season_cur['cywin_prob'] = predict_cy_young(meta_pipeline, L1c, L2c, L3c)\n",
    "        print(\n",
    "            season_cur[['Name','Season','cywin_prob']]\n",
    "            .sort_values('cywin_prob', ascending=False)\n",
    "        )\n"
   ]
  },
  {
   "cell_type": "code",
   "execution_count": 9,
   "metadata": {},
   "outputs": [
    {
     "data": {
      "text/html": [
       "<div>\n",
       "<style scoped>\n",
       "    .dataframe tbody tr th:only-of-type {\n",
       "        vertical-align: middle;\n",
       "    }\n",
       "\n",
       "    .dataframe tbody tr th {\n",
       "        vertical-align: top;\n",
       "    }\n",
       "\n",
       "    .dataframe thead th {\n",
       "        text-align: right;\n",
       "    }\n",
       "</style>\n",
       "<table border=\"1\" class=\"dataframe\">\n",
       "  <thead>\n",
       "    <tr style=\"text-align: right;\">\n",
       "      <th></th>\n",
       "      <th>IDfg</th>\n",
       "      <th>Season</th>\n",
       "      <th>Name</th>\n",
       "      <th>Team</th>\n",
       "      <th>Age</th>\n",
       "      <th>W</th>\n",
       "      <th>L</th>\n",
       "      <th>WAR</th>\n",
       "      <th>ERA</th>\n",
       "      <th>G</th>\n",
       "      <th>...</th>\n",
       "      <th>Stuff+</th>\n",
       "      <th>Location+</th>\n",
       "      <th>Pitching+</th>\n",
       "      <th>Stf+ FO</th>\n",
       "      <th>Loc+ FO</th>\n",
       "      <th>Pit+ FO</th>\n",
       "      <th>bayes_effect</th>\n",
       "      <th>pitch_score_mean</th>\n",
       "      <th>rbi_pred_mean</th>\n",
       "      <th>cywin_prob</th>\n",
       "    </tr>\n",
       "  </thead>\n",
       "  <tbody>\n",
       "    <tr>\n",
       "      <th>53</th>\n",
       "      <td>16137</td>\n",
       "      <td>2025</td>\n",
       "      <td>Carlos Rodon</td>\n",
       "      <td>NYY</td>\n",
       "      <td>32</td>\n",
       "      <td>2</td>\n",
       "      <td>3</td>\n",
       "      <td>0.2</td>\n",
       "      <td>4.34</td>\n",
       "      <td>5</td>\n",
       "      <td>...</td>\n",
       "      <td>105</td>\n",
       "      <td>95</td>\n",
       "      <td>101</td>\n",
       "      <td>NaN</td>\n",
       "      <td>NaN</td>\n",
       "      <td>NaN</td>\n",
       "      <td>0.081342</td>\n",
       "      <td>12.069914</td>\n",
       "      <td>0.081135</td>\n",
       "      <td>0.002623</td>\n",
       "    </tr>\n",
       "  </tbody>\n",
       "</table>\n",
       "<p>1 rows × 397 columns</p>\n",
       "</div>"
      ],
      "text/plain": [
       "     IDfg  Season          Name Team  Age  W  L  WAR   ERA  G  ...  Stuff+  \\\n",
       "53  16137    2025  Carlos Rodon  NYY   32  2  3  0.2  4.34  5  ...     105   \n",
       "\n",
       "    Location+  Pitching+  Stf+ FO  Loc+ FO  Pit+ FO  bayes_effect  \\\n",
       "53         95        101      NaN      NaN      NaN      0.081342   \n",
       "\n",
       "    pitch_score_mean  rbi_pred_mean  cywin_prob  \n",
       "53         12.069914       0.081135    0.002623  \n",
       "\n",
       "[1 rows x 397 columns]"
      ]
     },
     "execution_count": 9,
     "metadata": {},
     "output_type": "execute_result"
    }
   ],
   "source": [
    "season_cur[season_cur['Name']=='Carlos Rodon']"
   ]
  },
  {
   "cell_type": "code",
   "execution_count": 11,
   "metadata": {},
   "outputs": [
    {
     "data": {
      "text/plain": [
       "Text(0.5, 1.0, 'Distribution of Cy Young Contenders')"
      ]
     },
     "execution_count": 11,
     "metadata": {},
     "output_type": "execute_result"
    },
    {
     "data": {
      "image/png": "[encoded data removed]",
      "text/plain": [
       "<Figure size 640x480 with 1 Axes>"
      ]
     },
     "metadata": {},
     "output_type": "display_data"
    }
   ],
   "source": [
    "import matplotlib.pyplot as plt\n",
    "\n",
    "plt.hist(season_cur['cywin_prob'])\n",
    "plt.xlabel('Cy Young Win Probability')\n",
    "plt.title('Distribution of Cy Young Contenders')"
   ]
  }
 ],
 "metadata": {
  "kernelspec": {
   "display_name": ".venv",
   "language": "python",
   "name": "python3"
  },
  "language_info": {
   "codemirror_mode": {
    "name": "ipython",
    "version": 3
   },
   "file_extension": ".py",
   "mimetype": "text/x-python",
   "name": "python",
   "nbconvert_exporter": "python",
   "pygments_lexer": "ipython3",
   "version": "3.12.3"
  }
 },
 "nbformat": 4,
 "nbformat_minor": 2
}
