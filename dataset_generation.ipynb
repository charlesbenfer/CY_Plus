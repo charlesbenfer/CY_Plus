{
 "cells": [
  {
   "cell_type": "code",
   "execution_count": 2,
   "metadata": {},
   "outputs": [
    {
     "name": "stdout",
     "output_type": "stream",
     "text": [
      "⚠️  Warning: could not lookup ID for 'Nestor Cortes': No MLBAM ID found for 'Nestor Cortes'\n",
      "⚠️  Warning: could not lookup ID for 'Sandy Alcantara': No MLBAM ID found for 'Sandy Alcantara'\n",
      "⚠️  Warning: could not lookup ID for 'Julio Urías': No MLBAM ID found for 'Julio Urías'\n",
      "⚠️  Warning: could not lookup ID for 'Carlos Rodón': No MLBAM ID found for 'Carlos Rodón'\n",
      "⚠️  Warning: could not lookup ID for 'Edwin Díaz': No MLBAM ID found for 'Edwin Díaz'\n",
      "⚠️  Warning: could not lookup ID for 'Pablo López': No MLBAM ID found for 'Pablo López'\n",
      "⚠️  Warning: could not lookup ID for 'Michael King': No MLBAM ID found for 'Michael King'\n",
      "⚠️  Warning: could not lookup ID for 'Cristopher Sánchez': No MLBAM ID found for 'Cristopher Sánchez'\n",
      "Top-10 Cy Young finishers by year (MLBAM IDs):\n",
      " 2022: [434378, 506433, 543037, 592332, 605400, 608331, 656302, 657140, 660271, 663556, 664285, 666201, 668678, 669203, 669456]\n",
      " 2023: [112116, 543037, 543243, 554430, 592332, 605135, 605483, 621107, 657006, 657277, 664285, 668678, 669203, 669923, 673540, 675911, 680694]\n",
      " 2024: [489446, 519242, 554430, 579328, 607625, 656302, 657277, 661403, 664285, 664854, 666142, 668881, 669203, 669302, 669373, 671922, 684007, 694973]\n",
      "\n",
      "Final scrape map (playerID -> [years…]):\n",
      " 506433 (Yu Darvish): [2021, 2022]\n",
      " 663556 (Shane McClanahan): [2021, 2022]\n",
      " 668678 (Zac Gallen): [2021, 2022, 2023]\n",
      " 434378 (Justin Verlander): [2021, 2022]\n",
      " 608331 (Max Fried): [2021, 2022]\n",
      " 592332 (Kevin Gausman): [2021, 2022, 2023]\n",
      " 656302 (Dylan Cease): [2021, 2022, 2023, 2024]\n",
      " 660271 (Shohei Ohtani): [2021, 2022]\n",
      " 669456 (Shane Bieber): [2021, 2022]\n",
      " 669203 (Corbin Burnes): [2021, 2022, 2023, 2024]\n",
      " 657140 (Kyle Wright): [2021, 2022]\n",
      " 605400 (Aaron Nola): [2021, 2022]\n",
      " 666201 (Alek Manoah): [2021, 2022]\n",
      " 543037 (Gerrit Cole): [2021, 2022, 2023]\n",
      " 664285 (Framber Valdez): [2021, 2022, 2023, 2024]\n",
      " 669923 (George Kirby): [2022, 2023]\n",
      " 673540 (Kodai Senga): [2022, 2023]\n",
      " 675911 (Spencer Strider): [2022, 2023]\n",
      " 543243 (Sonny Gray): [2022, 2023]\n",
      " 605483 (Blake Snell): [2022, 2023]\n",
      " 657277 (Logan Webb): [2022, 2023, 2024]\n",
      " 605135 (Chris Bassitt): [2022, 2023]\n",
      " 657006 (Justin Steele): [2022, 2023]\n",
      " 621107 (Zach Eflin): [2022, 2023]\n",
      " 112116 (Luis Castillo): [2022, 2023]\n",
      " 680694 (Kyle Bradish): [2022, 2023]\n",
      " 554430 (Zack Wheeler): [2022, 2023, 2024]\n",
      " 579328 (Yusei Kikuchi): [2023, 2024]\n",
      " 489446 (Kirby Yates): [2023, 2024]\n",
      " 694973 (Paul Skenes): [2023, 2024]\n",
      " 607625 (Seth Lugo): [2023, 2024]\n",
      " 519242 (Chris Sale): [2023, 2024]\n",
      " 684007 (Shota Imanaga): [2023, 2024]\n",
      " 668881 (Hunter Greene): [2023, 2024]\n",
      " 671922 (Cade Smith): [2023, 2024]\n",
      " 669302 (Logan Gilbert): [2023, 2024]\n",
      " 664854 (Ryan Helsley): [2023, 2024]\n",
      " 661403 (Emmanuel Clase): [2023, 2024]\n",
      " 669373 (Tarik Skubal): [2023, 2024]\n",
      " 666142 (Cole Ragans): [2023, 2024]\n",
      "This May Take a While. Progress Bar shows Completion of Data Retrieval.\n"
     ]
    },
    {
     "name": "stderr",
     "output_type": "stream",
     "text": [
      "Processing: 100%|██████████| 30/30 [00:00<00:00, 38.56iteration/s]\n"
     ]
    },
    {
     "name": "stdout",
     "output_type": "stream",
     "text": [
      "Converting Data to Dataframe.\n",
      "This May Take a While. Progress Bar shows Completion of Data Retrieval.\n"
     ]
    },
    {
     "name": "stderr",
     "output_type": "stream",
     "text": [
      "Processing: 100%|██████████| 30/30 [00:00<00:00, 39.47iteration/s]\n"
     ]
    },
    {
     "name": "stdout",
     "output_type": "stream",
     "text": [
      "Converting Data to Dataframe.\n",
      "This May Take a While. Progress Bar shows Completion of Data Retrieval.\n"
     ]
    },
    {
     "name": "stderr",
     "output_type": "stream",
     "text": [
      "Processing: 100%|██████████| 25/25 [00:00<00:00, 38.69iteration/s]\n"
     ]
    },
    {
     "name": "stdout",
     "output_type": "stream",
     "text": [
      "Converting Data to Dataframe.\n",
      "This May Take a While. Progress Bar shows Completion of Data Retrieval.\n"
     ]
    },
    {
     "name": "stderr",
     "output_type": "stream",
     "text": [
      "Processing: 100%|██████████| 29/29 [00:00<00:00, 42.29iteration/s]\n"
     ]
    },
    {
     "name": "stdout",
     "output_type": "stream",
     "text": [
      "Converting Data to Dataframe.\n",
      "This May Take a While. Progress Bar shows Completion of Data Retrieval.\n"
     ]
    },
    {
     "name": "stderr",
     "output_type": "stream",
     "text": [
      "Processing: 100%|██████████| 23/23 [00:00<00:00, 40.01iteration/s]\n"
     ]
    },
    {
     "name": "stdout",
     "output_type": "stream",
     "text": [
      "Converting Data to Dataframe.\n",
      "This May Take a While. Progress Bar shows Completion of Data Retrieval.\n"
     ]
    },
    {
     "name": "stderr",
     "output_type": "stream",
     "text": [
      "Processing: 100%|██████████| 31/31 [00:00<00:00, 43.86iteration/s]\n"
     ]
    },
    {
     "name": "stdout",
     "output_type": "stream",
     "text": [
      "Converting Data to Dataframe.\n",
      "This May Take a While. Progress Bar shows Completion of Data Retrieval.\n"
     ]
    },
    {
     "name": "stderr",
     "output_type": "stream",
     "text": [
      "Processing: 100%|██████████| 34/34 [00:00<00:00, 41.36iteration/s]\n"
     ]
    },
    {
     "name": "stdout",
     "output_type": "stream",
     "text": [
      "Converting Data to Dataframe.\n",
      "No pitching games found for player 434378 in season 2021\n",
      "This May Take a While. Progress Bar shows Completion of Data Retrieval.\n"
     ]
    },
    {
     "name": "stderr",
     "output_type": "stream",
     "text": [
      "Processing: 100%|██████████| 28/28 [00:00<00:00, 44.38iteration/s]\n"
     ]
    },
    {
     "name": "stdout",
     "output_type": "stream",
     "text": [
      "Converting Data to Dataframe.\n",
      "This May Take a While. Progress Bar shows Completion of Data Retrieval.\n"
     ]
    },
    {
     "name": "stderr",
     "output_type": "stream",
     "text": [
      "Processing: 100%|██████████| 28/28 [00:00<00:00, 47.69iteration/s]\n"
     ]
    },
    {
     "name": "stdout",
     "output_type": "stream",
     "text": [
      "Converting Data to Dataframe.\n",
      "This May Take a While. Progress Bar shows Completion of Data Retrieval.\n"
     ]
    },
    {
     "name": "stderr",
     "output_type": "stream",
     "text": [
      "Processing: 100%|██████████| 30/30 [00:00<00:00, 47.65iteration/s]\n"
     ]
    },
    {
     "name": "stdout",
     "output_type": "stream",
     "text": [
      "Converting Data to Dataframe.\n",
      "This May Take a While. Progress Bar shows Completion of Data Retrieval.\n"
     ]
    },
    {
     "name": "stderr",
     "output_type": "stream",
     "text": [
      "Processing: 100%|██████████| 33/33 [00:00<00:00, 43.08iteration/s]\n"
     ]
    },
    {
     "name": "stdout",
     "output_type": "stream",
     "text": [
      "Converting Data to Dataframe.\n",
      "This May Take a While. Progress Bar shows Completion of Data Retrieval.\n"
     ]
    },
    {
     "name": "stderr",
     "output_type": "stream",
     "text": [
      "Processing: 100%|██████████| 31/31 [00:00<00:00, 45.39iteration/s]\n"
     ]
    },
    {
     "name": "stdout",
     "output_type": "stream",
     "text": [
      "Converting Data to Dataframe.\n",
      "This May Take a While. Progress Bar shows Completion of Data Retrieval.\n"
     ]
    },
    {
     "name": "stderr",
     "output_type": "stream",
     "text": [
      "Processing: 100%|██████████| 31/31 [00:00<00:00, 43.10iteration/s]\n"
     ]
    },
    {
     "name": "stdout",
     "output_type": "stream",
     "text": [
      "Converting Data to Dataframe.\n",
      "This May Take a While. Progress Bar shows Completion of Data Retrieval.\n"
     ]
    },
    {
     "name": "stderr",
     "output_type": "stream",
     "text": [
      "Processing: 100%|██████████| 32/32 [00:00<00:00, 41.34iteration/s]\n"
     ]
    },
    {
     "name": "stdout",
     "output_type": "stream",
     "text": [
      "Converting Data to Dataframe.\n",
      "This May Take a While. Progress Bar shows Completion of Data Retrieval.\n"
     ]
    },
    {
     "name": "stderr",
     "output_type": "stream",
     "text": [
      "Processing: 100%|██████████| 32/32 [00:00<00:00, 41.62iteration/s]\n"
     ]
    },
    {
     "name": "stdout",
     "output_type": "stream",
     "text": [
      "Converting Data to Dataframe.\n",
      "This May Take a While. Progress Bar shows Completion of Data Retrieval.\n"
     ]
    },
    {
     "name": "stderr",
     "output_type": "stream",
     "text": [
      "Processing: 100%|██████████| 33/33 [00:00<00:00, 50.38iteration/s]\n"
     ]
    },
    {
     "name": "stdout",
     "output_type": "stream",
     "text": [
      "Converting Data to Dataframe.\n",
      "This May Take a While. Progress Bar shows Completion of Data Retrieval.\n"
     ]
    },
    {
     "name": "stderr",
     "output_type": "stream",
     "text": [
      "Processing: 100%|██████████| 33/33 [00:00<00:00, 44.31iteration/s]\n"
     ]
    },
    {
     "name": "stdout",
     "output_type": "stream",
     "text": [
      "Converting Data to Dataframe.\n",
      "This May Take a While. Progress Bar shows Completion of Data Retrieval.\n"
     ]
    },
    {
     "name": "stderr",
     "output_type": "stream",
     "text": [
      "Processing: 100%|██████████| 23/23 [00:00<00:00, 40.88iteration/s]\n"
     ]
    },
    {
     "name": "stdout",
     "output_type": "stream",
     "text": [
      "Converting Data to Dataframe.\n",
      "This May Take a While. Progress Bar shows Completion of Data Retrieval.\n"
     ]
    },
    {
     "name": "stderr",
     "output_type": "stream",
     "text": [
      "Processing: 100%|██████████| 28/28 [00:00<00:00, 52.33iteration/s]\n"
     ]
    },
    {
     "name": "stdout",
     "output_type": "stream",
     "text": [
      "Converting Data to Dataframe.\n",
      "This May Take a While. Progress Bar shows Completion of Data Retrieval.\n"
     ]
    },
    {
     "name": "stderr",
     "output_type": "stream",
     "text": [
      "Processing: 100%|██████████| 16/16 [00:00<00:00, 34.95iteration/s]\n"
     ]
    },
    {
     "name": "stdout",
     "output_type": "stream",
     "text": [
      "Converting Data to Dataframe.\n",
      "This May Take a While. Progress Bar shows Completion of Data Retrieval.\n"
     ]
    },
    {
     "name": "stderr",
     "output_type": "stream",
     "text": [
      "Processing: 100%|██████████| 31/31 [00:01<00:00, 28.58iteration/s]\n"
     ]
    },
    {
     "name": "stdout",
     "output_type": "stream",
     "text": [
      "Converting Data to Dataframe.\n",
      "This May Take a While. Progress Bar shows Completion of Data Retrieval.\n"
     ]
    },
    {
     "name": "stderr",
     "output_type": "stream",
     "text": [
      "Processing: 100%|██████████| 28/28 [00:00<00:00, 43.20iteration/s]\n"
     ]
    },
    {
     "name": "stdout",
     "output_type": "stream",
     "text": [
      "Converting Data to Dataframe.\n",
      "This May Take a While. Progress Bar shows Completion of Data Retrieval.\n"
     ]
    },
    {
     "name": "stderr",
     "output_type": "stream",
     "text": [
      "Processing: 100%|██████████| 33/33 [00:00<00:00, 47.97iteration/s]\n"
     ]
    },
    {
     "name": "stdout",
     "output_type": "stream",
     "text": [
      "Converting Data to Dataframe.\n",
      "This May Take a While. Progress Bar shows Completion of Data Retrieval.\n"
     ]
    },
    {
     "name": "stderr",
     "output_type": "stream",
     "text": [
      "Processing: 100%|██████████| 32/32 [00:00<00:00, 38.48iteration/s]\n"
     ]
    },
    {
     "name": "stdout",
     "output_type": "stream",
     "text": [
      "Converting Data to Dataframe.\n",
      "This May Take a While. Progress Bar shows Completion of Data Retrieval.\n"
     ]
    },
    {
     "name": "stderr",
     "output_type": "stream",
     "text": [
      "Processing: 100%|██████████| 32/32 [00:00<00:00, 48.16iteration/s]\n"
     ]
    },
    {
     "name": "stdout",
     "output_type": "stream",
     "text": [
      "Converting Data to Dataframe.\n",
      "This May Take a While. Progress Bar shows Completion of Data Retrieval.\n"
     ]
    },
    {
     "name": "stderr",
     "output_type": "stream",
     "text": [
      "Processing: 100%|██████████| 2/2 [00:00<00:00,  5.70iteration/s]\n"
     ]
    },
    {
     "name": "stdout",
     "output_type": "stream",
     "text": [
      "Converting Data to Dataframe.\n",
      "This May Take a While. Progress Bar shows Completion of Data Retrieval.\n"
     ]
    },
    {
     "name": "stderr",
     "output_type": "stream",
     "text": [
      "Processing: 100%|██████████| 30/30 [00:00<00:00, 43.72iteration/s]\n"
     ]
    },
    {
     "name": "stdout",
     "output_type": "stream",
     "text": [
      "Converting Data to Dataframe.\n",
      "This May Take a While. Progress Bar shows Completion of Data Retrieval.\n"
     ]
    },
    {
     "name": "stderr",
     "output_type": "stream",
     "text": [
      "Processing: 100%|██████████| 32/32 [00:00<00:00, 47.74iteration/s]\n"
     ]
    },
    {
     "name": "stdout",
     "output_type": "stream",
     "text": [
      "Converting Data to Dataframe.\n",
      "This May Take a While. Progress Bar shows Completion of Data Retrieval.\n"
     ]
    },
    {
     "name": "stderr",
     "output_type": "stream",
     "text": [
      "Processing: 100%|██████████| 32/32 [00:00<00:00, 40.66iteration/s]\n"
     ]
    },
    {
     "name": "stdout",
     "output_type": "stream",
     "text": [
      "Converting Data to Dataframe.\n",
      "This May Take a While. Progress Bar shows Completion of Data Retrieval.\n"
     ]
    },
    {
     "name": "stderr",
     "output_type": "stream",
     "text": [
      "Processing: 100%|██████████| 20/20 [00:00<00:00, 34.53iteration/s]\n"
     ]
    },
    {
     "name": "stdout",
     "output_type": "stream",
     "text": [
      "Converting Data to Dataframe.\n",
      "This May Take a While. Progress Bar shows Completion of Data Retrieval.\n"
     ]
    },
    {
     "name": "stderr",
     "output_type": "stream",
     "text": [
      "Processing: 100%|██████████| 31/31 [00:00<00:00, 41.52iteration/s]\n"
     ]
    },
    {
     "name": "stdout",
     "output_type": "stream",
     "text": [
      "Converting Data to Dataframe.\n",
      "This May Take a While. Progress Bar shows Completion of Data Retrieval.\n"
     ]
    },
    {
     "name": "stderr",
     "output_type": "stream",
     "text": [
      "Processing: 100%|██████████| 30/30 [00:00<00:00, 44.20iteration/s]\n"
     ]
    },
    {
     "name": "stdout",
     "output_type": "stream",
     "text": [
      "Converting Data to Dataframe.\n",
      "This May Take a While. Progress Bar shows Completion of Data Retrieval.\n"
     ]
    },
    {
     "name": "stderr",
     "output_type": "stream",
     "text": [
      "Processing: 100%|██████████| 33/33 [00:00<00:00, 43.65iteration/s]\n"
     ]
    },
    {
     "name": "stdout",
     "output_type": "stream",
     "text": [
      "Converting Data to Dataframe.\n",
      "This May Take a While. Progress Bar shows Completion of Data Retrieval.\n"
     ]
    },
    {
     "name": "stderr",
     "output_type": "stream",
     "text": [
      "Processing: 100%|██████████| 33/33 [00:00<00:00, 35.67iteration/s]\n"
     ]
    },
    {
     "name": "stdout",
     "output_type": "stream",
     "text": [
      "Converting Data to Dataframe.\n",
      "This May Take a While. Progress Bar shows Completion of Data Retrieval.\n"
     ]
    },
    {
     "name": "stderr",
     "output_type": "stream",
     "text": [
      "Processing: 100%|██████████| 22/22 [00:00<00:00, 39.93iteration/s]\n"
     ]
    },
    {
     "name": "stdout",
     "output_type": "stream",
     "text": [
      "Converting Data to Dataframe.\n",
      "This May Take a While. Progress Bar shows Completion of Data Retrieval.\n"
     ]
    },
    {
     "name": "stderr",
     "output_type": "stream",
     "text": [
      "Processing: 100%|██████████| 31/31 [00:00<00:00, 44.56iteration/s]\n"
     ]
    },
    {
     "name": "stdout",
     "output_type": "stream",
     "text": [
      "Converting Data to Dataframe.\n",
      "This May Take a While. Progress Bar shows Completion of Data Retrieval.\n"
     ]
    },
    {
     "name": "stderr",
     "output_type": "stream",
     "text": [
      "Processing: 100%|██████████| 31/31 [00:00<00:00, 44.55iteration/s]\n"
     ]
    },
    {
     "name": "stdout",
     "output_type": "stream",
     "text": [
      "Converting Data to Dataframe.\n",
      "This May Take a While. Progress Bar shows Completion of Data Retrieval.\n"
     ]
    },
    {
     "name": "stderr",
     "output_type": "stream",
     "text": [
      "Processing: 100%|██████████| 28/28 [00:00<00:00, 42.28iteration/s]\n"
     ]
    },
    {
     "name": "stdout",
     "output_type": "stream",
     "text": [
      "Converting Data to Dataframe.\n",
      "This May Take a While. Progress Bar shows Completion of Data Retrieval.\n"
     ]
    },
    {
     "name": "stderr",
     "output_type": "stream",
     "text": [
      "Processing: 100%|██████████| 25/25 [00:00<00:00, 48.11iteration/s]\n"
     ]
    },
    {
     "name": "stdout",
     "output_type": "stream",
     "text": [
      "Converting Data to Dataframe.\n",
      "This May Take a While. Progress Bar shows Completion of Data Retrieval.\n"
     ]
    },
    {
     "name": "stderr",
     "output_type": "stream",
     "text": [
      "Processing: 100%|██████████| 31/31 [00:00<00:00, 42.60iteration/s]\n"
     ]
    },
    {
     "name": "stdout",
     "output_type": "stream",
     "text": [
      "Converting Data to Dataframe.\n",
      "No pitching games found for player 673540 in season 2022\n",
      "This May Take a While. Progress Bar shows Completion of Data Retrieval.\n"
     ]
    },
    {
     "name": "stderr",
     "output_type": "stream",
     "text": [
      "Processing: 100%|██████████| 29/29 [00:00<00:00, 44.81iteration/s]\n"
     ]
    },
    {
     "name": "stdout",
     "output_type": "stream",
     "text": [
      "Converting Data to Dataframe.\n",
      "This May Take a While. Progress Bar shows Completion of Data Retrieval.\n"
     ]
    },
    {
     "name": "stderr",
     "output_type": "stream",
     "text": [
      "Processing: 100%|██████████| 31/31 [00:00<00:00, 45.68iteration/s]\n"
     ]
    },
    {
     "name": "stdout",
     "output_type": "stream",
     "text": [
      "Converting Data to Dataframe.\n",
      "This May Take a While. Progress Bar shows Completion of Data Retrieval.\n"
     ]
    },
    {
     "name": "stderr",
     "output_type": "stream",
     "text": [
      "Processing: 100%|██████████| 32/32 [00:01<00:00, 31.76iteration/s]\n"
     ]
    },
    {
     "name": "stdout",
     "output_type": "stream",
     "text": [
      "Converting Data to Dataframe.\n",
      "This May Take a While. Progress Bar shows Completion of Data Retrieval.\n"
     ]
    },
    {
     "name": "stderr",
     "output_type": "stream",
     "text": [
      "Processing: 100%|██████████| 24/24 [00:00<00:00, 46.51iteration/s]\n"
     ]
    },
    {
     "name": "stdout",
     "output_type": "stream",
     "text": [
      "Converting Data to Dataframe.\n",
      "This May Take a While. Progress Bar shows Completion of Data Retrieval.\n"
     ]
    },
    {
     "name": "stderr",
     "output_type": "stream",
     "text": [
      "Processing: 100%|██████████| 32/32 [00:00<00:00, 48.85iteration/s]\n"
     ]
    },
    {
     "name": "stdout",
     "output_type": "stream",
     "text": [
      "Converting Data to Dataframe.\n",
      "This May Take a While. Progress Bar shows Completion of Data Retrieval.\n"
     ]
    },
    {
     "name": "stderr",
     "output_type": "stream",
     "text": [
      "Processing: 100%|██████████| 25/25 [00:00<00:00, 42.21iteration/s]\n"
     ]
    },
    {
     "name": "stdout",
     "output_type": "stream",
     "text": [
      "Converting Data to Dataframe.\n",
      "This May Take a While. Progress Bar shows Completion of Data Retrieval.\n"
     ]
    },
    {
     "name": "stderr",
     "output_type": "stream",
     "text": [
      "Processing: 100%|██████████| 32/32 [00:00<00:00, 38.55iteration/s]\n"
     ]
    },
    {
     "name": "stdout",
     "output_type": "stream",
     "text": [
      "Converting Data to Dataframe.\n",
      "This May Take a While. Progress Bar shows Completion of Data Retrieval.\n"
     ]
    },
    {
     "name": "stderr",
     "output_type": "stream",
     "text": [
      "Processing: 100%|██████████| 32/32 [00:00<00:00, 48.73iteration/s]\n"
     ]
    },
    {
     "name": "stdout",
     "output_type": "stream",
     "text": [
      "Converting Data to Dataframe.\n",
      "This May Take a While. Progress Bar shows Completion of Data Retrieval.\n"
     ]
    },
    {
     "name": "stderr",
     "output_type": "stream",
     "text": [
      "Processing: 100%|██████████| 33/33 [00:00<00:00, 47.95iteration/s]\n"
     ]
    },
    {
     "name": "stdout",
     "output_type": "stream",
     "text": [
      "Converting Data to Dataframe.\n",
      "This May Take a While. Progress Bar shows Completion of Data Retrieval.\n"
     ]
    },
    {
     "name": "stderr",
     "output_type": "stream",
     "text": [
      "Processing: 100%|██████████| 33/33 [00:00<00:00, 51.01iteration/s]\n"
     ]
    },
    {
     "name": "stdout",
     "output_type": "stream",
     "text": [
      "Converting Data to Dataframe.\n",
      "This May Take a While. Progress Bar shows Completion of Data Retrieval.\n"
     ]
    },
    {
     "name": "stderr",
     "output_type": "stream",
     "text": [
      "Processing: 100%|██████████| 30/30 [00:00<00:00, 50.81iteration/s]\n"
     ]
    },
    {
     "name": "stdout",
     "output_type": "stream",
     "text": [
      "Converting Data to Dataframe.\n",
      "This May Take a While. Progress Bar shows Completion of Data Retrieval.\n"
     ]
    },
    {
     "name": "stderr",
     "output_type": "stream",
     "text": [
      "Processing: 100%|██████████| 33/33 [00:00<00:00, 52.17iteration/s]\n"
     ]
    },
    {
     "name": "stdout",
     "output_type": "stream",
     "text": [
      "Converting Data to Dataframe.\n",
      "This May Take a While. Progress Bar shows Completion of Data Retrieval.\n"
     ]
    },
    {
     "name": "stderr",
     "output_type": "stream",
     "text": [
      "Processing: 100%|██████████| 24/24 [00:00<00:00, 37.59iteration/s]\n"
     ]
    },
    {
     "name": "stdout",
     "output_type": "stream",
     "text": [
      "Converting Data to Dataframe.\n",
      "This May Take a While. Progress Bar shows Completion of Data Retrieval.\n"
     ]
    },
    {
     "name": "stderr",
     "output_type": "stream",
     "text": [
      "Processing: 100%|██████████| 30/30 [00:00<00:00, 51.16iteration/s]\n"
     ]
    },
    {
     "name": "stdout",
     "output_type": "stream",
     "text": [
      "Converting Data to Dataframe.\n",
      "This May Take a While. Progress Bar shows Completion of Data Retrieval.\n"
     ]
    },
    {
     "name": "stderr",
     "output_type": "stream",
     "text": [
      "Processing: 100%|██████████| 20/20 [00:00<00:00, 47.56iteration/s]\n"
     ]
    },
    {
     "name": "stdout",
     "output_type": "stream",
     "text": [
      "Converting Data to Dataframe.\n",
      "This May Take a While. Progress Bar shows Completion of Data Retrieval.\n"
     ]
    },
    {
     "name": "stderr",
     "output_type": "stream",
     "text": [
      "Processing: 100%|██████████| 31/31 [00:00<00:00, 40.40iteration/s]\n"
     ]
    },
    {
     "name": "stdout",
     "output_type": "stream",
     "text": [
      "Converting Data to Dataframe.\n",
      "No pitching games found for player 112116 in season 2022\n",
      "No pitching games found for player 112116 in season 2023\n",
      "This May Take a While. Progress Bar shows Completion of Data Retrieval.\n"
     ]
    },
    {
     "name": "stderr",
     "output_type": "stream",
     "text": [
      "Processing: 100%|██████████| 23/23 [00:00<00:00, 40.55iteration/s]\n"
     ]
    },
    {
     "name": "stdout",
     "output_type": "stream",
     "text": [
      "Converting Data to Dataframe.\n",
      "This May Take a While. Progress Bar shows Completion of Data Retrieval.\n"
     ]
    },
    {
     "name": "stderr",
     "output_type": "stream",
     "text": [
      "Processing: 100%|██████████| 30/30 [00:00<00:00, 51.87iteration/s]\n"
     ]
    },
    {
     "name": "stdout",
     "output_type": "stream",
     "text": [
      "Converting Data to Dataframe.\n",
      "This May Take a While. Progress Bar shows Completion of Data Retrieval.\n"
     ]
    },
    {
     "name": "stderr",
     "output_type": "stream",
     "text": [
      "Processing: 100%|██████████| 26/26 [00:00<00:00, 58.02iteration/s]\n"
     ]
    },
    {
     "name": "stdout",
     "output_type": "stream",
     "text": [
      "Converting Data to Dataframe.\n",
      "This May Take a While. Progress Bar shows Completion of Data Retrieval.\n"
     ]
    },
    {
     "name": "stderr",
     "output_type": "stream",
     "text": [
      "Processing: 100%|██████████| 32/32 [00:00<00:00, 44.41iteration/s]\n"
     ]
    },
    {
     "name": "stdout",
     "output_type": "stream",
     "text": [
      "Converting Data to Dataframe.\n",
      "This May Take a While. Progress Bar shows Completion of Data Retrieval.\n"
     ]
    },
    {
     "name": "stderr",
     "output_type": "stream",
     "text": [
      "Processing: 100%|██████████| 32/32 [00:00<00:00, 52.22iteration/s]\n"
     ]
    },
    {
     "name": "stdout",
     "output_type": "stream",
     "text": [
      "Converting Data to Dataframe.\n",
      "This May Take a While. Progress Bar shows Completion of Data Retrieval.\n"
     ]
    },
    {
     "name": "stderr",
     "output_type": "stream",
     "text": [
      "Processing: 100%|██████████| 32/32 [00:00<00:00, 53.07iteration/s]\n"
     ]
    },
    {
     "name": "stdout",
     "output_type": "stream",
     "text": [
      "Converting Data to Dataframe.\n",
      "This May Take a While. Progress Bar shows Completion of Data Retrieval.\n"
     ]
    },
    {
     "name": "stderr",
     "output_type": "stream",
     "text": [
      "Processing: 100%|██████████| 32/32 [00:00<00:00, 53.42iteration/s]\n"
     ]
    },
    {
     "name": "stdout",
     "output_type": "stream",
     "text": [
      "Converting Data to Dataframe.\n",
      "This May Take a While. Progress Bar shows Completion of Data Retrieval.\n"
     ]
    },
    {
     "name": "stderr",
     "output_type": "stream",
     "text": [
      "Processing: 100%|██████████| 61/61 [00:01<00:00, 47.87iteration/s]\n"
     ]
    },
    {
     "name": "stdout",
     "output_type": "stream",
     "text": [
      "Converting Data to Dataframe.\n",
      "This May Take a While. Progress Bar shows Completion of Data Retrieval.\n"
     ]
    },
    {
     "name": "stderr",
     "output_type": "stream",
     "text": [
      "Processing: 100%|██████████| 61/61 [00:01<00:00, 52.07iteration/s]\n"
     ]
    },
    {
     "name": "stdout",
     "output_type": "stream",
     "text": [
      "Converting Data to Dataframe.\n",
      "No pitching games found for player 694973 in season 2023\n",
      "This May Take a While. Progress Bar shows Completion of Data Retrieval.\n"
     ]
    },
    {
     "name": "stderr",
     "output_type": "stream",
     "text": [
      "Processing: 100%|██████████| 23/23 [00:00<00:00, 40.28iteration/s]\n"
     ]
    },
    {
     "name": "stdout",
     "output_type": "stream",
     "text": [
      "Converting Data to Dataframe.\n",
      "This May Take a While. Progress Bar shows Completion of Data Retrieval.\n"
     ]
    },
    {
     "name": "stderr",
     "output_type": "stream",
     "text": [
      "Processing: 100%|██████████| 26/26 [00:00<00:00, 39.38iteration/s]\n"
     ]
    },
    {
     "name": "stdout",
     "output_type": "stream",
     "text": [
      "Converting Data to Dataframe.\n",
      "This May Take a While. Progress Bar shows Completion of Data Retrieval.\n"
     ]
    },
    {
     "name": "stderr",
     "output_type": "stream",
     "text": [
      "Processing: 100%|██████████| 33/33 [00:00<00:00, 42.04iteration/s]\n"
     ]
    },
    {
     "name": "stdout",
     "output_type": "stream",
     "text": [
      "Converting Data to Dataframe.\n",
      "This May Take a While. Progress Bar shows Completion of Data Retrieval.\n"
     ]
    },
    {
     "name": "stderr",
     "output_type": "stream",
     "text": [
      "Processing: 100%|██████████| 20/20 [00:00<00:00, 33.65iteration/s]\n"
     ]
    },
    {
     "name": "stdout",
     "output_type": "stream",
     "text": [
      "Converting Data to Dataframe.\n",
      "This May Take a While. Progress Bar shows Completion of Data Retrieval.\n"
     ]
    },
    {
     "name": "stderr",
     "output_type": "stream",
     "text": [
      "Processing: 100%|██████████| 29/29 [00:00<00:00, 45.45iteration/s]\n"
     ]
    },
    {
     "name": "stdout",
     "output_type": "stream",
     "text": [
      "Converting Data to Dataframe.\n",
      "No pitching games found for player 684007 in season 2023\n",
      "This May Take a While. Progress Bar shows Completion of Data Retrieval.\n"
     ]
    },
    {
     "name": "stderr",
     "output_type": "stream",
     "text": [
      "Processing: 100%|██████████| 29/29 [00:00<00:00, 47.02iteration/s]\n"
     ]
    },
    {
     "name": "stdout",
     "output_type": "stream",
     "text": [
      "Converting Data to Dataframe.\n",
      "This May Take a While. Progress Bar shows Completion of Data Retrieval.\n"
     ]
    },
    {
     "name": "stderr",
     "output_type": "stream",
     "text": [
      "Processing: 100%|██████████| 22/22 [00:00<00:00, 31.86iteration/s]\n"
     ]
    },
    {
     "name": "stdout",
     "output_type": "stream",
     "text": [
      "Converting Data to Dataframe.\n",
      "This May Take a While. Progress Bar shows Completion of Data Retrieval.\n"
     ]
    },
    {
     "name": "stderr",
     "output_type": "stream",
     "text": [
      "Processing: 100%|██████████| 26/26 [00:00<00:00, 41.20iteration/s]\n"
     ]
    },
    {
     "name": "stdout",
     "output_type": "stream",
     "text": [
      "Converting Data to Dataframe.\n",
      "No pitching games found for player 671922 in season 2023\n",
      "This May Take a While. Progress Bar shows Completion of Data Retrieval.\n"
     ]
    },
    {
     "name": "stderr",
     "output_type": "stream",
     "text": [
      "Processing: 100%|██████████| 74/74 [00:01<00:00, 54.55iteration/s]\n"
     ]
    },
    {
     "name": "stdout",
     "output_type": "stream",
     "text": [
      "Converting Data to Dataframe.\n",
      "This May Take a While. Progress Bar shows Completion of Data Retrieval.\n"
     ]
    },
    {
     "name": "stderr",
     "output_type": "stream",
     "text": [
      "Processing: 100%|██████████| 32/32 [00:00<00:00, 38.42iteration/s]\n"
     ]
    },
    {
     "name": "stdout",
     "output_type": "stream",
     "text": [
      "Converting Data to Dataframe.\n",
      "This May Take a While. Progress Bar shows Completion of Data Retrieval.\n"
     ]
    },
    {
     "name": "stderr",
     "output_type": "stream",
     "text": [
      "Processing: 100%|██████████| 33/33 [00:00<00:00, 54.67iteration/s]\n"
     ]
    },
    {
     "name": "stdout",
     "output_type": "stream",
     "text": [
      "Converting Data to Dataframe.\n",
      "This May Take a While. Progress Bar shows Completion of Data Retrieval.\n"
     ]
    },
    {
     "name": "stderr",
     "output_type": "stream",
     "text": [
      "Processing: 100%|██████████| 33/33 [00:00<00:00, 47.77iteration/s]\n"
     ]
    },
    {
     "name": "stdout",
     "output_type": "stream",
     "text": [
      "Converting Data to Dataframe.\n",
      "This May Take a While. Progress Bar shows Completion of Data Retrieval.\n"
     ]
    },
    {
     "name": "stderr",
     "output_type": "stream",
     "text": [
      "Processing: 100%|██████████| 65/65 [00:01<00:00, 36.21iteration/s]\n"
     ]
    },
    {
     "name": "stdout",
     "output_type": "stream",
     "text": [
      "Converting Data to Dataframe.\n",
      "This May Take a While. Progress Bar shows Completion of Data Retrieval.\n"
     ]
    },
    {
     "name": "stderr",
     "output_type": "stream",
     "text": [
      "Processing: 100%|██████████| 75/75 [00:01<00:00, 46.14iteration/s]\n"
     ]
    },
    {
     "name": "stdout",
     "output_type": "stream",
     "text": [
      "Converting Data to Dataframe.\n",
      "This May Take a While. Progress Bar shows Completion of Data Retrieval.\n"
     ]
    },
    {
     "name": "stderr",
     "output_type": "stream",
     "text": [
      "Processing: 100%|██████████| 74/74 [00:01<00:00, 60.50iteration/s]\n"
     ]
    },
    {
     "name": "stdout",
     "output_type": "stream",
     "text": [
      "Converting Data to Dataframe.\n",
      "This May Take a While. Progress Bar shows Completion of Data Retrieval.\n"
     ]
    },
    {
     "name": "stderr",
     "output_type": "stream",
     "text": [
      "Processing: 100%|██████████| 15/15 [00:00<00:00, 33.61iteration/s]\n"
     ]
    },
    {
     "name": "stdout",
     "output_type": "stream",
     "text": [
      "Converting Data to Dataframe.\n",
      "This May Take a While. Progress Bar shows Completion of Data Retrieval.\n"
     ]
    },
    {
     "name": "stderr",
     "output_type": "stream",
     "text": [
      "Processing: 100%|██████████| 31/31 [00:00<00:00, 52.93iteration/s]\n"
     ]
    },
    {
     "name": "stdout",
     "output_type": "stream",
     "text": [
      "Converting Data to Dataframe.\n",
      "This May Take a While. Progress Bar shows Completion of Data Retrieval.\n"
     ]
    },
    {
     "name": "stderr",
     "output_type": "stream",
     "text": [
      "Processing: 100%|██████████| 29/29 [00:00<00:00, 44.64iteration/s]\n"
     ]
    },
    {
     "name": "stdout",
     "output_type": "stream",
     "text": [
      "Converting Data to Dataframe.\n",
      "This May Take a While. Progress Bar shows Completion of Data Retrieval.\n"
     ]
    },
    {
     "name": "stderr",
     "output_type": "stream",
     "text": [
      "Processing: 100%|██████████| 32/32 [00:00<00:00, 63.97iteration/s]\n"
     ]
    },
    {
     "name": "stdout",
     "output_type": "stream",
     "text": [
      "Converting Data to Dataframe.\n",
      "Pitch-level rows: 210062\n",
      "Game-level rows: 2646\n",
      "Season-level rows: 87\n"
     ]
    }
   ],
   "source": [
    "import requests\n",
    "import pandas as pd\n",
    "from bs4 import BeautifulSoup, Comment\n",
    "from pybaseball import playerid_lookup, pitching_stats\n",
    "import statsapi\n",
    "from data_scraper import MLB_Scrape\n",
    "import unicodedata\n",
    "import io\n",
    "\n",
    "# —————————————————————————————\n",
    "# Setup a session with headers to avoid blocks\n",
    "# —————————————————————————————\n",
    "HEADERS = {\n",
    "    \"User-Agent\": (\n",
    "        \"Mozilla/5.0 (Windows NT 10.0; Win64; x64) \"\n",
    "        \"AppleWebKit/537.36 (KHTML, like Gecko) \"\n",
    "        \"Chrome/115.0.0.0 Safari/537.36\"\n",
    "    ),\n",
    "    \"Accept-Language\": \"en-US,en;q=0.9\",\n",
    "    \"Referer\": \"https://www.baseball-reference.com/\"\n",
    "}\n",
    "session = requests.Session()\n",
    "session.headers.update(HEADERS)\n",
    "scraper = MLB_Scrape()\n",
    "\n",
    "# —————————————————————————————\n",
    "# Accent-stripping utility\n",
    "# —————————————————————————————\n",
    "def strip_accents(text: str) -> str:\n",
    "    \"\"\"\n",
    "    Normalize unicode string, removing any accent marks.\n",
    "    \"\"\"\n",
    "    return ''.join(\n",
    "        c for c in unicodedata.normalize('NFD', text)\n",
    "        if unicodedata.category(c) != 'Mn'\n",
    "    )\n",
    "\n",
    "# —————————————————————————————\n",
    "# ID Lookup via pybaseball (robust)\n",
    "# —————————————————————————————\n",
    "def get_player_id(name: str) -> int:\n",
    "    \"\"\"\n",
    "    Lookup the MLBAM personId for a full name via pybaseball.playerid_lookup(),\n",
    "    stripping accents so names like 'José' resolve correctly.\n",
    "    \"\"\"\n",
    "    name_clean = strip_accents(name)\n",
    "    parts = name_clean.split()\n",
    "    last, first = parts[-1], parts[0]\n",
    "    df = playerid_lookup(last, first)\n",
    "    if df.empty or pd.isna(df.loc[0, 'key_mlbam']):\n",
    "        raise ValueError(f\"No MLBAM ID found for {name!r}\")\n",
    "    return int(df.loc[0, 'key_mlbam'])\n",
    "\n",
    "# —————————————————————————————\n",
    "# Scrape Top-10 finishers for each award year\n",
    "# —————————————————————————————\n",
    "def get_top10_cy_young_ids(years: list[int]) -> dict[int, set[int]]:\n",
    "    \"\"\"\n",
    "    For each year, scrape the AL & NL Cy Young voting tables and return:\n",
    "      { year: {mlbam_id, ...} }\n",
    "    \"\"\"\n",
    "    top_ids: dict[int, set[int]] = {}\n",
    "    for yr in years:\n",
    "        url = f\"https://www.baseball-reference.com/awards/awards_{yr}.shtml\"\n",
    "        resp = session.get(url)\n",
    "        resp.raise_for_status()\n",
    "        # parse with correct encoding to avoid mojibake\n",
    "        soup = BeautifulSoup(resp.content, \"html.parser\", from_encoding='utf-8')\n",
    "\n",
    "        # grab hidden tables from HTML comments\n",
    "        comments = soup.find_all(string=lambda t: isinstance(t, Comment))\n",
    "        season_ids: set[int] = set()\n",
    "\n",
    "        for c in comments:\n",
    "            if \"Cy Young Voting\" not in c:\n",
    "                continue\n",
    "            tbl_html = str(BeautifulSoup(c, \"html.parser\").find(\"table\"))\n",
    "            if not tbl_html:\n",
    "                continue\n",
    "\n",
    "            df_full = pd.read_html(io.StringIO(tbl_html))[0]\n",
    "            df = df_full.head(10)\n",
    "\n",
    "            # find the column header that contains “player”\n",
    "            player_cols = [col for col in df.columns if \"player\" in str(col).lower()]\n",
    "            name_col = player_cols[0] if player_cols else df.columns[1]\n",
    "\n",
    "            for raw_name in df[name_col]:\n",
    "                try:\n",
    "                    pid = get_player_id(raw_name)\n",
    "                    season_ids.add(pid)\n",
    "                except Exception as e:\n",
    "                    print(f\"⚠️  Warning: could not lookup ID for {raw_name!r}: {e}\")\n",
    "\n",
    "        top_ids[yr] = season_ids\n",
    "    return top_ids\n",
    "\n",
    "# —————————————————————————————\n",
    "# Build the 2-season scrape map\n",
    "# —————————————————————————————\n",
    "def build_player_seasons(top_ids: dict[int, set[int]]) -> dict[int, list[int]]:\n",
    "    \"\"\"\n",
    "    Convert {season: {pids}} into {pid: [season-1, season, ...]}\n",
    "    \"\"\"\n",
    "    ps: dict[int, set[int]] = {}\n",
    "    for season, pids in top_ids.items():\n",
    "        for pid in pids:\n",
    "            ps.setdefault(pid, set()).update({season - 1, season})\n",
    "    return {pid: sorted(yrs) for pid, yrs in ps.items()}\n",
    "\n",
    "# —————————————————————————————\n",
    "# Fetch full name from Stats API\n",
    "# —————————————————————————————\n",
    "def get_player_name(pid: int) -> str:\n",
    "    \"\"\"\n",
    "    Fetch fullName from MLB Stats API for a given mlbam playerID.\n",
    "    \"\"\"\n",
    "    resp = statsapi.get('people', {'personIds': pid})\n",
    "    ppl = resp.get('people', [])\n",
    "    if not ppl:\n",
    "        raise ValueError(f\"No MLB person found for ID {pid}\")\n",
    "    return ppl[0]['fullName']\n",
    "\n",
    "# —————————————————————————————\n",
    "# Scrape pitch-level data\n",
    "# —————————————————————————————\n",
    "def scrape_pitch_level(player_seasons: dict[int, list[int]]) -> pd.DataFrame:\n",
    "    \"\"\"\n",
    "    Scrape pitch-by-pitch data for each playerID in each desired season.\n",
    "    Returns a pandas.DataFrame with columns including\n",
    "    ['game_id','pitcher_id','pitch_type','release_speed','spin_rate',...,'Name','Season'].\n",
    "    \"\"\"\n",
    "    all_p = []\n",
    "    for pid, seasons in player_seasons.items():\n",
    "        name = get_player_name(pid)\n",
    "        for yr in seasons:\n",
    "            games = scraper.get_player_games_list(\n",
    "                player_id=pid, season=yr,\n",
    "                start_date=f\"{yr}-03-01\", end_date=f\"{yr}-11-30\",\n",
    "                sport_id=1, game_type=['R'], pitching=True\n",
    "            )\n",
    "            if not games:\n",
    "                continue\n",
    "\n",
    "            jsons = scraper.get_data(game_list_input=games)\n",
    "            df_raw = scraper.get_data_df(data_list=jsons)\n",
    "            df = df_raw.to_pandas() if hasattr(df_raw, 'to_pandas') else df_raw\n",
    "            df = df[df['pitcher_id'] == pid].copy()\n",
    "            df['Name'], df['Season'] = name, yr\n",
    "            all_p.append(df)\n",
    "\n",
    "    return pd.concat(all_p, ignore_index=True) if all_p else pd.DataFrame()\n",
    "\n",
    "# —————————————————————————————\n",
    "# Aggregate to game level\n",
    "# —————————————————————————————\n",
    "def aggregate_game_level(pitch_df: pd.DataFrame,\n",
    "                         feature_cols: list[str]) -> pd.DataFrame:\n",
    "    \"\"\"\n",
    "    Compute per-game means of your pitch-level features.\n",
    "    \"\"\"\n",
    "    agg = (\n",
    "        pitch_df\n",
    "        .groupby(['game_id','game_date','Name','Season'])[feature_cols]\n",
    "        .mean()\n",
    "        .reset_index()\n",
    "        .rename({c: f\"{c}_mean\" for c in feature_cols}, axis=1)\n",
    "    )\n",
    "    return agg\n",
    "\n",
    "# —————————————————————————————\n",
    "# Scrape season totals\n",
    "# —————————————————————————————\n",
    "def scrape_season_totals(player_seasons: dict[int, list[int]],\n",
    "                         qual: int = 0) -> pd.DataFrame:\n",
    "    \"\"\"\n",
    "    For each player & season, pull full-season totals from pybaseball.\n",
    "    Returns a DataFrame with the standard pitching stats plus 'Name' & 'Season'.\n",
    "    \"\"\"\n",
    "    recs = []\n",
    "    # prefetch names\n",
    "    name_map = {pid: get_player_name(pid) for pid in player_seasons}\n",
    "    for pid, seasons in player_seasons.items():\n",
    "        name = name_map[pid]\n",
    "        for yr in seasons:\n",
    "            df_yr = pitching_stats(yr, qual=qual)\n",
    "            df_f = df_yr[df_yr['Name'] == name].copy()\n",
    "            df_f['Season'] = yr\n",
    "            recs.append(df_f)\n",
    "\n",
    "    return pd.concat(recs, ignore_index=True) if recs else pd.DataFrame()\n",
    "\n",
    "# —————————————————————————————\n",
    "# Main execution\n",
    "# —————————————————————————————\n",
    "if __name__ == '__main__':\n",
    "    award_years = [2022, 2023, 2024]\n",
    "    top_ids_by_year = get_top10_cy_young_ids(award_years)\n",
    "    player_seasons_map = build_player_seasons(top_ids_by_year)\n",
    "\n",
    "    print(\"Top-10 Cy Young finishers by year (MLBAM IDs):\")\n",
    "    for yr, ids in top_ids_by_year.items():\n",
    "        print(f\" {yr}: {sorted(ids)}\")\n",
    "\n",
    "    print(\"\\nFinal scrape map (playerID -> [years…]):\")\n",
    "    for pid, yrs in player_seasons_map.items():\n",
    "        name = get_player_name(pid)\n",
    "        print(f\" {pid} ({name}): {yrs}\")\n",
    "\n",
    "    pitch_df = scrape_pitch_level(player_seasons_map)\n",
    "    print(\"Pitch-level rows:\", len(pitch_df))\n",
    "\n",
    "    features = [\n",
    "        'rbi','start_speed','end_speed','sz_top','sz_bot','x','y','ax','ay','az',\n",
    "        'pfxx','pfxz','px','pz','vx0','vy0','vz0','x0','y0','z0','zone',\n",
    "        'type_confidence','plate_time','extension','spin_rate','spin_direction','vb','ivb','hb'\n",
    "    ]\n",
    "    game_df = aggregate_game_level(pitch_df, features)\n",
    "    print(\"Game-level rows:\", len(game_df))\n",
    "\n",
    "    season_df = scrape_season_totals(player_seasons_map)\n",
    "    print(\"Season-level rows:\", len(season_df))\n"
   ]
  },
  {
   "cell_type": "code",
   "execution_count": 29,
   "metadata": {},
   "outputs": [],
   "source": [
    "pitch_df.to_csv(\"pitch_level.csv\", index=False)\n",
    "game_df.to_csv(\"game_level.csv\", index=False)\n",
    "season_df.to_csv(\"season_totals.csv\", index=False)"
   ]
  },
  {
   "cell_type": "code",
   "execution_count": 30,
   "metadata": {},
   "outputs": [
    {
     "name": "stderr",
     "output_type": "stream",
     "text": [
      "/tmp/ipykernel_17275/606702917.py:44: FutureWarning: Passing literal html to 'read_html' is deprecated and will be removed in a future version. To read from a literal string, wrap it in a 'StringIO' object.\n",
      "  df = pd.read_html(str(tbl))[0]\n",
      "/tmp/ipykernel_17275/606702917.py:44: FutureWarning: Passing literal html to 'read_html' is deprecated and will be removed in a future version. To read from a literal string, wrap it in a 'StringIO' object.\n",
      "  df = pd.read_html(str(tbl))[0]\n",
      "/tmp/ipykernel_17275/606702917.py:44: FutureWarning: Passing literal html to 'read_html' is deprecated and will be removed in a future version. To read from a literal string, wrap it in a 'StringIO' object.\n",
      "  df = pd.read_html(str(tbl))[0]\n",
      "/tmp/ipykernel_17275/606702917.py:44: FutureWarning: Passing literal html to 'read_html' is deprecated and will be removed in a future version. To read from a literal string, wrap it in a 'StringIO' object.\n",
      "  df = pd.read_html(str(tbl))[0]\n",
      "/tmp/ipykernel_17275/606702917.py:44: FutureWarning: Passing literal html to 'read_html' is deprecated and will be removed in a future version. To read from a literal string, wrap it in a 'StringIO' object.\n",
      "  df = pd.read_html(str(tbl))[0]\n"
     ]
    },
    {
     "name": "stdout",
     "output_type": "stream",
     "text": [
      "Written cy_young_labels.csv with 86 rows\n"
     ]
    },
    {
     "name": "stderr",
     "output_type": "stream",
     "text": [
      "/tmp/ipykernel_17275/606702917.py:44: FutureWarning: Passing literal html to 'read_html' is deprecated and will be removed in a future version. To read from a literal string, wrap it in a 'StringIO' object.\n",
      "  df = pd.read_html(str(tbl))[0]\n",
      "/tmp/ipykernel_17275/606702917.py:44: FutureWarning: Passing literal html to 'read_html' is deprecated and will be removed in a future version. To read from a literal string, wrap it in a 'StringIO' object.\n",
      "  df = pd.read_html(str(tbl))[0]\n",
      "/tmp/ipykernel_17275/606702917.py:44: FutureWarning: Passing literal html to 'read_html' is deprecated and will be removed in a future version. To read from a literal string, wrap it in a 'StringIO' object.\n",
      "  df = pd.read_html(str(tbl))[0]\n"
     ]
    }
   ],
   "source": [
    "import requests\n",
    "import pandas as pd\n",
    "from bs4 import BeautifulSoup, Comment\n",
    "\n",
    "# —————————————————————————————\n",
    "# Helpers for scraping\n",
    "# —————————————————————————————\n",
    "HEADERS = {\n",
    "    \"User-Agent\": (\n",
    "        \"Mozilla/5.0 (Windows NT 10.0; Win64; x64) \"\n",
    "        \"AppleWebKit/537.36 (KHTML, like Gecko) \"\n",
    "        \"Chrome/115.0.0.0 Safari/537.36\"\n",
    "    ),\n",
    "    \"Accept-Language\": \"en-US,en;q=0.9\",\n",
    "    \"Referer\": \"https://www.baseball-reference.com/\"\n",
    "}\n",
    "session = requests.Session()\n",
    "session.headers.update(HEADERS)\n",
    "\n",
    "\n",
    "def scrape_cy_young_winners(seasons: list[int]) -> pd.DataFrame:\n",
    "    \"\"\"\n",
    "    Scrape Baseball‑Reference award pages for Cy Young winners.\n",
    "    Returns a DataFrame with columns ['Name', 'Season', 'winner_flag'].\n",
    "    \"\"\"\n",
    "    records = []\n",
    "    for yr in seasons:\n",
    "        url = f\"https://www.baseball-reference.com/awards/awards_{yr}.shtml\"\n",
    "        resp = session.get(url)\n",
    "        resp.raise_for_status()\n",
    "        soup = BeautifulSoup(resp.text, \"html.parser\")\n",
    "\n",
    "        # BR hides their tables in HTML comments\n",
    "        comments = soup.find_all(string=lambda t: isinstance(t, Comment))\n",
    "        # we want the first Cy Young Voting table per league, but the winner is always first row\n",
    "        for c in comments:\n",
    "            if \"Cy Young Voting\" not in c:\n",
    "                continue\n",
    "            tbl = BeautifulSoup(c, \"html.parser\").find(\"table\")\n",
    "            if tbl is None:\n",
    "                continue\n",
    "\n",
    "            # parse the table into pandas\n",
    "            df = pd.read_html(str(tbl))[0]\n",
    "            # identify the player column\n",
    "            player_cols = [col for col in df.columns if \"player\" in str(col).lower()]\n",
    "            if player_cols:\n",
    "                name_col = player_cols[0]\n",
    "            else:\n",
    "                # fallback: assume second column is player\n",
    "                name_col = df.columns[1]\n",
    "\n",
    "            # grab the first-place finisher\n",
    "            winner = df[name_col].iloc[0]\n",
    "            records.append({\n",
    "                \"Name\": winner,\n",
    "                \"Season\": yr,\n",
    "                \"winner_flag\": 1\n",
    "            })\n",
    "            # once per table, move on to next comment (other league)\n",
    "    winners_df = pd.DataFrame.from_records(records)\n",
    "    return winners_df\n",
    "\n",
    "\n",
    "if __name__ == \"__main__\":\n",
    "    # 1) list all seasons for which you need labels:\n",
    "    #    (e.g. award years and/or prior years from your pipeline)\n",
    "    seasons = [2021, 2022, 2023, 2024]\n",
    "\n",
    "    # 2) load your season_totals to get every (Name, Season) you scraped\n",
    "    season_df = pd.read_csv(\"season_totals.csv\")\n",
    "    combos = (\n",
    "        season_df[[\"Name\", \"Season\"]]\n",
    "        .drop_duplicates()\n",
    "        .reset_index(drop=True)\n",
    "    )\n",
    "\n",
    "    # 3) scrape winners\n",
    "    winners_df = scrape_cy_young_winners(seasons)\n",
    "\n",
    "    # 4) merge and fill zeros for non‑winners\n",
    "    labels = (\n",
    "        combos\n",
    "        .merge(winners_df, on=[\"Name\", \"Season\"], how=\"left\")\n",
    "        .fillna({\"winner_flag\": 0})\n",
    "    )\n",
    "    labels[\"winner_flag\"] = labels[\"winner_flag\"].astype(int)\n",
    "\n",
    "    # 5) save\n",
    "    labels.to_csv(\"cy_young_labels.csv\", index=False)\n",
    "    print(\"Written cy_young_labels.csv with\", len(labels), \"rows\")\n"
   ]
  }
 ],
 "metadata": {
  "kernelspec": {
   "display_name": ".venv",
   "language": "python",
   "name": "python3"
  },
  "language_info": {
   "codemirror_mode": {
    "name": "ipython",
    "version": 3
   },
   "file_extension": ".py",
   "mimetype": "text/x-python",
   "name": "python",
   "nbconvert_exporter": "python",
   "pygments_lexer": "ipython3",
   "version": "3.12.3"
  }
 },
 "nbformat": 4,
 "nbformat_minor": 2
}
