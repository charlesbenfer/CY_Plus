{
 "cells": [
  {
   "cell_type": "code",
   "execution_count": 1,
   "metadata": {},
   "outputs": [
    {
     "name": "stdout",
     "output_type": "stream",
     "text": [
      "Gathering player lookup table. This may take a moment.\n",
      "Warning: could not lookup ID for 'Nestor Cortes'\n",
      "Warning: could not lookup ID for 'Sandy Alcantara'\n",
      "Warning: could not lookup ID for 'Julio Urías'\n",
      "Warning: could not lookup ID for 'Carlos Rodón'\n",
      "Warning: could not lookup ID for 'Edwin Díaz'\n",
      "Warning: could not lookup ID for 'Pablo López'\n",
      "Warning: could not lookup ID for 'Michael King'\n",
      "Warning: could not lookup ID for 'Cristopher Sánchez'\n",
      "This May Take a While. Progress Bar shows Completion of Data Retrieval.\n"
     ]
    },
    {
     "name": "stderr",
     "output_type": "stream",
     "text": [
      "Processing: 100%|██████████| 30/30 [00:00<00:00, 50.26iteration/s]\n"
     ]
    },
    {
     "name": "stdout",
     "output_type": "stream",
     "text": [
      "Converting Data to Dataframe.\n",
      "This May Take a While. Progress Bar shows Completion of Data Retrieval.\n"
     ]
    },
    {
     "name": "stderr",
     "output_type": "stream",
     "text": [
      "Processing: 100%|██████████| 30/30 [00:00<00:00, 52.14iteration/s]\n"
     ]
    },
    {
     "name": "stdout",
     "output_type": "stream",
     "text": [
      "Converting Data to Dataframe.\n",
      "This May Take a While. Progress Bar shows Completion of Data Retrieval.\n"
     ]
    },
    {
     "name": "stderr",
     "output_type": "stream",
     "text": [
      "Processing: 100%|██████████| 25/25 [00:00<00:00, 50.75iteration/s]\n"
     ]
    },
    {
     "name": "stdout",
     "output_type": "stream",
     "text": [
      "Converting Data to Dataframe.\n",
      "This May Take a While. Progress Bar shows Completion of Data Retrieval.\n"
     ]
    },
    {
     "name": "stderr",
     "output_type": "stream",
     "text": [
      "Processing: 100%|██████████| 29/29 [00:00<00:00, 49.80iteration/s]\n"
     ]
    },
    {
     "name": "stdout",
     "output_type": "stream",
     "text": [
      "Converting Data to Dataframe.\n",
      "This May Take a While. Progress Bar shows Completion of Data Retrieval.\n"
     ]
    },
    {
     "name": "stderr",
     "output_type": "stream",
     "text": [
      "Processing: 100%|██████████| 23/23 [00:00<00:00, 49.03iteration/s]\n"
     ]
    },
    {
     "name": "stdout",
     "output_type": "stream",
     "text": [
      "Converting Data to Dataframe.\n",
      "This May Take a While. Progress Bar shows Completion of Data Retrieval.\n"
     ]
    },
    {
     "name": "stderr",
     "output_type": "stream",
     "text": [
      "Processing: 100%|██████████| 31/31 [00:00<00:00, 49.07iteration/s]\n"
     ]
    },
    {
     "name": "stdout",
     "output_type": "stream",
     "text": [
      "Converting Data to Dataframe.\n",
      "This May Take a While. Progress Bar shows Completion of Data Retrieval.\n"
     ]
    },
    {
     "name": "stderr",
     "output_type": "stream",
     "text": [
      "Processing: 100%|██████████| 34/34 [00:00<00:00, 50.93iteration/s]\n"
     ]
    },
    {
     "name": "stdout",
     "output_type": "stream",
     "text": [
      "Converting Data to Dataframe.\n",
      "No pitching games found for player 434378 in season 2021\n",
      "This May Take a While. Progress Bar shows Completion of Data Retrieval.\n"
     ]
    },
    {
     "name": "stderr",
     "output_type": "stream",
     "text": [
      "Processing: 100%|██████████| 28/28 [00:00<00:00, 50.43iteration/s]\n"
     ]
    },
    {
     "name": "stdout",
     "output_type": "stream",
     "text": [
      "Converting Data to Dataframe.\n",
      "This May Take a While. Progress Bar shows Completion of Data Retrieval.\n"
     ]
    },
    {
     "name": "stderr",
     "output_type": "stream",
     "text": [
      "Processing: 100%|██████████| 28/28 [00:00<00:00, 55.34iteration/s]\n"
     ]
    },
    {
     "name": "stdout",
     "output_type": "stream",
     "text": [
      "Converting Data to Dataframe.\n",
      "This May Take a While. Progress Bar shows Completion of Data Retrieval.\n"
     ]
    },
    {
     "name": "stderr",
     "output_type": "stream",
     "text": [
      "Processing: 100%|██████████| 30/30 [00:00<00:00, 48.80iteration/s]\n"
     ]
    },
    {
     "name": "stdout",
     "output_type": "stream",
     "text": [
      "Converting Data to Dataframe.\n",
      "This May Take a While. Progress Bar shows Completion of Data Retrieval.\n"
     ]
    },
    {
     "name": "stderr",
     "output_type": "stream",
     "text": [
      "Processing: 100%|██████████| 33/33 [00:00<00:00, 52.20iteration/s]\n"
     ]
    },
    {
     "name": "stdout",
     "output_type": "stream",
     "text": [
      "Converting Data to Dataframe.\n",
      "This May Take a While. Progress Bar shows Completion of Data Retrieval.\n"
     ]
    },
    {
     "name": "stderr",
     "output_type": "stream",
     "text": [
      "Processing: 100%|██████████| 31/31 [00:00<00:00, 41.08iteration/s]\n"
     ]
    },
    {
     "name": "stdout",
     "output_type": "stream",
     "text": [
      "Converting Data to Dataframe.\n",
      "This May Take a While. Progress Bar shows Completion of Data Retrieval.\n"
     ]
    },
    {
     "name": "stderr",
     "output_type": "stream",
     "text": [
      "Processing: 100%|██████████| 31/31 [00:00<00:00, 49.83iteration/s]\n"
     ]
    },
    {
     "name": "stdout",
     "output_type": "stream",
     "text": [
      "Converting Data to Dataframe.\n",
      "This May Take a While. Progress Bar shows Completion of Data Retrieval.\n"
     ]
    },
    {
     "name": "stderr",
     "output_type": "stream",
     "text": [
      "Processing: 100%|██████████| 32/32 [00:00<00:00, 44.41iteration/s]\n"
     ]
    },
    {
     "name": "stdout",
     "output_type": "stream",
     "text": [
      "Converting Data to Dataframe.\n",
      "This May Take a While. Progress Bar shows Completion of Data Retrieval.\n"
     ]
    },
    {
     "name": "stderr",
     "output_type": "stream",
     "text": [
      "Processing: 100%|██████████| 32/32 [00:00<00:00, 58.41iteration/s]\n"
     ]
    },
    {
     "name": "stdout",
     "output_type": "stream",
     "text": [
      "Converting Data to Dataframe.\n",
      "This May Take a While. Progress Bar shows Completion of Data Retrieval.\n"
     ]
    },
    {
     "name": "stderr",
     "output_type": "stream",
     "text": [
      "Processing: 100%|██████████| 33/33 [00:00<00:00, 51.30iteration/s]\n"
     ]
    },
    {
     "name": "stdout",
     "output_type": "stream",
     "text": [
      "Converting Data to Dataframe.\n",
      "This May Take a While. Progress Bar shows Completion of Data Retrieval.\n"
     ]
    },
    {
     "name": "stderr",
     "output_type": "stream",
     "text": [
      "Processing: 100%|██████████| 33/33 [00:00<00:00, 45.41iteration/s]\n"
     ]
    },
    {
     "name": "stdout",
     "output_type": "stream",
     "text": [
      "Converting Data to Dataframe.\n",
      "This May Take a While. Progress Bar shows Completion of Data Retrieval.\n"
     ]
    },
    {
     "name": "stderr",
     "output_type": "stream",
     "text": [
      "Processing: 100%|██████████| 23/23 [00:00<00:00, 31.93iteration/s]\n"
     ]
    },
    {
     "name": "stdout",
     "output_type": "stream",
     "text": [
      "Converting Data to Dataframe.\n",
      "This May Take a While. Progress Bar shows Completion of Data Retrieval.\n"
     ]
    },
    {
     "name": "stderr",
     "output_type": "stream",
     "text": [
      "Processing: 100%|██████████| 28/28 [00:00<00:00, 56.57iteration/s]\n"
     ]
    },
    {
     "name": "stdout",
     "output_type": "stream",
     "text": [
      "Converting Data to Dataframe.\n",
      "This May Take a While. Progress Bar shows Completion of Data Retrieval.\n"
     ]
    },
    {
     "name": "stderr",
     "output_type": "stream",
     "text": [
      "Processing: 100%|██████████| 16/16 [00:00<00:00, 45.83iteration/s]\n"
     ]
    },
    {
     "name": "stdout",
     "output_type": "stream",
     "text": [
      "Converting Data to Dataframe.\n",
      "This May Take a While. Progress Bar shows Completion of Data Retrieval.\n"
     ]
    },
    {
     "name": "stderr",
     "output_type": "stream",
     "text": [
      "Processing: 100%|██████████| 31/31 [00:00<00:00, 57.57iteration/s]\n"
     ]
    },
    {
     "name": "stdout",
     "output_type": "stream",
     "text": [
      "Converting Data to Dataframe.\n",
      "This May Take a While. Progress Bar shows Completion of Data Retrieval.\n"
     ]
    },
    {
     "name": "stderr",
     "output_type": "stream",
     "text": [
      "Processing: 100%|██████████| 28/28 [00:00<00:00, 51.70iteration/s]\n"
     ]
    },
    {
     "name": "stdout",
     "output_type": "stream",
     "text": [
      "Converting Data to Dataframe.\n",
      "This May Take a While. Progress Bar shows Completion of Data Retrieval.\n"
     ]
    },
    {
     "name": "stderr",
     "output_type": "stream",
     "text": [
      "Processing: 100%|██████████| 33/33 [00:00<00:00, 49.52iteration/s]\n"
     ]
    },
    {
     "name": "stdout",
     "output_type": "stream",
     "text": [
      "Converting Data to Dataframe.\n",
      "This May Take a While. Progress Bar shows Completion of Data Retrieval.\n"
     ]
    },
    {
     "name": "stderr",
     "output_type": "stream",
     "text": [
      "Processing: 100%|██████████| 32/32 [00:00<00:00, 50.67iteration/s]\n"
     ]
    },
    {
     "name": "stdout",
     "output_type": "stream",
     "text": [
      "Converting Data to Dataframe.\n",
      "This May Take a While. Progress Bar shows Completion of Data Retrieval.\n"
     ]
    },
    {
     "name": "stderr",
     "output_type": "stream",
     "text": [
      "Processing: 100%|██████████| 32/32 [00:00<00:00, 43.64iteration/s]\n"
     ]
    },
    {
     "name": "stdout",
     "output_type": "stream",
     "text": [
      "Converting Data to Dataframe.\n",
      "This May Take a While. Progress Bar shows Completion of Data Retrieval.\n"
     ]
    },
    {
     "name": "stderr",
     "output_type": "stream",
     "text": [
      "Processing: 100%|██████████| 2/2 [00:00<00:00,  6.85iteration/s]\n"
     ]
    },
    {
     "name": "stdout",
     "output_type": "stream",
     "text": [
      "Converting Data to Dataframe.\n",
      "This May Take a While. Progress Bar shows Completion of Data Retrieval.\n"
     ]
    },
    {
     "name": "stderr",
     "output_type": "stream",
     "text": [
      "Processing: 100%|██████████| 30/30 [00:00<00:00, 50.45iteration/s]\n"
     ]
    },
    {
     "name": "stdout",
     "output_type": "stream",
     "text": [
      "Converting Data to Dataframe.\n",
      "This May Take a While. Progress Bar shows Completion of Data Retrieval.\n"
     ]
    },
    {
     "name": "stderr",
     "output_type": "stream",
     "text": [
      "Processing: 100%|██████████| 32/32 [00:00<00:00, 60.94iteration/s]\n"
     ]
    },
    {
     "name": "stdout",
     "output_type": "stream",
     "text": [
      "Converting Data to Dataframe.\n",
      "This May Take a While. Progress Bar shows Completion of Data Retrieval.\n"
     ]
    },
    {
     "name": "stderr",
     "output_type": "stream",
     "text": [
      "Processing: 100%|██████████| 32/32 [00:00<00:00, 57.66iteration/s]\n"
     ]
    },
    {
     "name": "stdout",
     "output_type": "stream",
     "text": [
      "Converting Data to Dataframe.\n",
      "This May Take a While. Progress Bar shows Completion of Data Retrieval.\n"
     ]
    },
    {
     "name": "stderr",
     "output_type": "stream",
     "text": [
      "Processing: 100%|██████████| 20/20 [00:00<00:00, 40.42iteration/s]\n"
     ]
    },
    {
     "name": "stdout",
     "output_type": "stream",
     "text": [
      "Converting Data to Dataframe.\n",
      "This May Take a While. Progress Bar shows Completion of Data Retrieval.\n"
     ]
    },
    {
     "name": "stderr",
     "output_type": "stream",
     "text": [
      "Processing: 100%|██████████| 31/31 [00:00<00:00, 52.85iteration/s]\n"
     ]
    },
    {
     "name": "stdout",
     "output_type": "stream",
     "text": [
      "Converting Data to Dataframe.\n",
      "This May Take a While. Progress Bar shows Completion of Data Retrieval.\n"
     ]
    },
    {
     "name": "stderr",
     "output_type": "stream",
     "text": [
      "Processing: 100%|██████████| 30/30 [00:00<00:00, 52.32iteration/s]\n"
     ]
    },
    {
     "name": "stdout",
     "output_type": "stream",
     "text": [
      "Converting Data to Dataframe.\n",
      "This May Take a While. Progress Bar shows Completion of Data Retrieval.\n"
     ]
    },
    {
     "name": "stderr",
     "output_type": "stream",
     "text": [
      "Processing: 100%|██████████| 33/33 [00:01<00:00, 24.26iteration/s]\n"
     ]
    },
    {
     "name": "stdout",
     "output_type": "stream",
     "text": [
      "Converting Data to Dataframe.\n",
      "This May Take a While. Progress Bar shows Completion of Data Retrieval.\n"
     ]
    },
    {
     "name": "stderr",
     "output_type": "stream",
     "text": [
      "Processing: 100%|██████████| 33/33 [00:04<00:00,  6.89iteration/s]\n"
     ]
    },
    {
     "name": "stdout",
     "output_type": "stream",
     "text": [
      "Converting Data to Dataframe.\n",
      "This May Take a While. Progress Bar shows Completion of Data Retrieval.\n"
     ]
    },
    {
     "name": "stderr",
     "output_type": "stream",
     "text": [
      "Processing: 100%|██████████| 22/22 [00:00<00:00, 50.48iteration/s]\n"
     ]
    },
    {
     "name": "stdout",
     "output_type": "stream",
     "text": [
      "Converting Data to Dataframe.\n",
      "This May Take a While. Progress Bar shows Completion of Data Retrieval.\n"
     ]
    },
    {
     "name": "stderr",
     "output_type": "stream",
     "text": [
      "Processing: 100%|██████████| 31/31 [00:00<00:00, 40.86iteration/s]\n"
     ]
    },
    {
     "name": "stdout",
     "output_type": "stream",
     "text": [
      "Converting Data to Dataframe.\n",
      "This May Take a While. Progress Bar shows Completion of Data Retrieval.\n"
     ]
    },
    {
     "name": "stderr",
     "output_type": "stream",
     "text": [
      "Processing: 100%|██████████| 31/31 [00:00<00:00, 51.36iteration/s]\n"
     ]
    },
    {
     "name": "stdout",
     "output_type": "stream",
     "text": [
      "Converting Data to Dataframe.\n",
      "This May Take a While. Progress Bar shows Completion of Data Retrieval.\n"
     ]
    },
    {
     "name": "stderr",
     "output_type": "stream",
     "text": [
      "Processing: 100%|██████████| 28/28 [00:00<00:00, 47.00iteration/s]\n"
     ]
    },
    {
     "name": "stdout",
     "output_type": "stream",
     "text": [
      "Converting Data to Dataframe.\n",
      "This May Take a While. Progress Bar shows Completion of Data Retrieval.\n"
     ]
    },
    {
     "name": "stderr",
     "output_type": "stream",
     "text": [
      "Processing: 100%|██████████| 25/25 [00:00<00:00, 40.02iteration/s]\n"
     ]
    },
    {
     "name": "stdout",
     "output_type": "stream",
     "text": [
      "Converting Data to Dataframe.\n",
      "This May Take a While. Progress Bar shows Completion of Data Retrieval.\n"
     ]
    },
    {
     "name": "stderr",
     "output_type": "stream",
     "text": [
      "Processing: 100%|██████████| 31/31 [00:00<00:00, 53.15iteration/s]\n"
     ]
    },
    {
     "name": "stdout",
     "output_type": "stream",
     "text": [
      "Converting Data to Dataframe.\n",
      "No pitching games found for player 673540 in season 2022\n",
      "This May Take a While. Progress Bar shows Completion of Data Retrieval.\n"
     ]
    },
    {
     "name": "stderr",
     "output_type": "stream",
     "text": [
      "Processing: 100%|██████████| 29/29 [00:00<00:00, 38.04iteration/s]\n"
     ]
    },
    {
     "name": "stdout",
     "output_type": "stream",
     "text": [
      "Converting Data to Dataframe.\n",
      "This May Take a While. Progress Bar shows Completion of Data Retrieval.\n"
     ]
    },
    {
     "name": "stderr",
     "output_type": "stream",
     "text": [
      "Processing: 100%|██████████| 31/31 [00:00<00:00, 62.50iteration/s]\n"
     ]
    },
    {
     "name": "stdout",
     "output_type": "stream",
     "text": [
      "Converting Data to Dataframe.\n",
      "This May Take a While. Progress Bar shows Completion of Data Retrieval.\n"
     ]
    },
    {
     "name": "stderr",
     "output_type": "stream",
     "text": [
      "Processing: 100%|██████████| 32/32 [00:00<00:00, 44.39iteration/s]\n"
     ]
    },
    {
     "name": "stdout",
     "output_type": "stream",
     "text": [
      "Converting Data to Dataframe.\n",
      "This May Take a While. Progress Bar shows Completion of Data Retrieval.\n"
     ]
    },
    {
     "name": "stderr",
     "output_type": "stream",
     "text": [
      "Processing: 100%|██████████| 24/24 [00:00<00:00, 51.98iteration/s]\n"
     ]
    },
    {
     "name": "stdout",
     "output_type": "stream",
     "text": [
      "Converting Data to Dataframe.\n",
      "This May Take a While. Progress Bar shows Completion of Data Retrieval.\n"
     ]
    },
    {
     "name": "stderr",
     "output_type": "stream",
     "text": [
      "Processing: 100%|██████████| 32/32 [00:01<00:00, 30.39iteration/s]\n"
     ]
    },
    {
     "name": "stdout",
     "output_type": "stream",
     "text": [
      "Converting Data to Dataframe.\n",
      "This May Take a While. Progress Bar shows Completion of Data Retrieval.\n"
     ]
    },
    {
     "name": "stderr",
     "output_type": "stream",
     "text": [
      "Processing: 100%|██████████| 25/25 [00:00<00:00, 51.96iteration/s]\n"
     ]
    },
    {
     "name": "stdout",
     "output_type": "stream",
     "text": [
      "Converting Data to Dataframe.\n",
      "This May Take a While. Progress Bar shows Completion of Data Retrieval.\n"
     ]
    },
    {
     "name": "stderr",
     "output_type": "stream",
     "text": [
      "Processing: 100%|██████████| 32/32 [00:01<00:00, 25.41iteration/s]\n"
     ]
    },
    {
     "name": "stdout",
     "output_type": "stream",
     "text": [
      "Converting Data to Dataframe.\n",
      "This May Take a While. Progress Bar shows Completion of Data Retrieval.\n"
     ]
    },
    {
     "name": "stderr",
     "output_type": "stream",
     "text": [
      "Processing: 100%|██████████| 32/32 [00:00<00:00, 56.86iteration/s]\n"
     ]
    },
    {
     "name": "stdout",
     "output_type": "stream",
     "text": [
      "Converting Data to Dataframe.\n",
      "This May Take a While. Progress Bar shows Completion of Data Retrieval.\n"
     ]
    },
    {
     "name": "stderr",
     "output_type": "stream",
     "text": [
      "Processing: 100%|██████████| 33/33 [00:00<00:00, 64.99iteration/s]\n"
     ]
    },
    {
     "name": "stdout",
     "output_type": "stream",
     "text": [
      "Converting Data to Dataframe.\n",
      "This May Take a While. Progress Bar shows Completion of Data Retrieval.\n"
     ]
    },
    {
     "name": "stderr",
     "output_type": "stream",
     "text": [
      "Processing: 100%|██████████| 33/33 [00:00<00:00, 52.28iteration/s]\n"
     ]
    },
    {
     "name": "stdout",
     "output_type": "stream",
     "text": [
      "Converting Data to Dataframe.\n",
      "This May Take a While. Progress Bar shows Completion of Data Retrieval.\n"
     ]
    },
    {
     "name": "stderr",
     "output_type": "stream",
     "text": [
      "Processing: 100%|██████████| 30/30 [00:00<00:00, 52.16iteration/s]\n"
     ]
    },
    {
     "name": "stdout",
     "output_type": "stream",
     "text": [
      "Converting Data to Dataframe.\n",
      "This May Take a While. Progress Bar shows Completion of Data Retrieval.\n"
     ]
    },
    {
     "name": "stderr",
     "output_type": "stream",
     "text": [
      "Processing: 100%|██████████| 33/33 [00:00<00:00, 51.29iteration/s]\n"
     ]
    },
    {
     "name": "stdout",
     "output_type": "stream",
     "text": [
      "Converting Data to Dataframe.\n",
      "This May Take a While. Progress Bar shows Completion of Data Retrieval.\n"
     ]
    },
    {
     "name": "stderr",
     "output_type": "stream",
     "text": [
      "Processing: 100%|██████████| 24/24 [00:00<00:00, 44.71iteration/s]\n"
     ]
    },
    {
     "name": "stdout",
     "output_type": "stream",
     "text": [
      "Converting Data to Dataframe.\n",
      "This May Take a While. Progress Bar shows Completion of Data Retrieval.\n"
     ]
    },
    {
     "name": "stderr",
     "output_type": "stream",
     "text": [
      "Processing: 100%|██████████| 30/30 [00:00<00:00, 61.96iteration/s]\n"
     ]
    },
    {
     "name": "stdout",
     "output_type": "stream",
     "text": [
      "Converting Data to Dataframe.\n",
      "This May Take a While. Progress Bar shows Completion of Data Retrieval.\n"
     ]
    },
    {
     "name": "stderr",
     "output_type": "stream",
     "text": [
      "Processing: 100%|██████████| 20/20 [00:00<00:00, 47.41iteration/s]\n"
     ]
    },
    {
     "name": "stdout",
     "output_type": "stream",
     "text": [
      "Converting Data to Dataframe.\n",
      "This May Take a While. Progress Bar shows Completion of Data Retrieval.\n"
     ]
    },
    {
     "name": "stderr",
     "output_type": "stream",
     "text": [
      "Processing: 100%|██████████| 31/31 [00:00<00:00, 55.86iteration/s]\n"
     ]
    },
    {
     "name": "stdout",
     "output_type": "stream",
     "text": [
      "Converting Data to Dataframe.\n",
      "No pitching games found for player 112116 in season 2022\n",
      "No pitching games found for player 112116 in season 2023\n",
      "This May Take a While. Progress Bar shows Completion of Data Retrieval.\n"
     ]
    },
    {
     "name": "stderr",
     "output_type": "stream",
     "text": [
      "Processing: 100%|██████████| 23/23 [00:00<00:00, 54.37iteration/s]\n"
     ]
    },
    {
     "name": "stdout",
     "output_type": "stream",
     "text": [
      "Converting Data to Dataframe.\n",
      "This May Take a While. Progress Bar shows Completion of Data Retrieval.\n"
     ]
    },
    {
     "name": "stderr",
     "output_type": "stream",
     "text": [
      "Processing: 100%|██████████| 30/30 [00:00<00:00, 57.72iteration/s]\n"
     ]
    },
    {
     "name": "stdout",
     "output_type": "stream",
     "text": [
      "Converting Data to Dataframe.\n",
      "This May Take a While. Progress Bar shows Completion of Data Retrieval.\n"
     ]
    },
    {
     "name": "stderr",
     "output_type": "stream",
     "text": [
      "Processing: 100%|██████████| 26/26 [00:00<00:00, 58.60iteration/s]\n"
     ]
    },
    {
     "name": "stdout",
     "output_type": "stream",
     "text": [
      "Converting Data to Dataframe.\n",
      "This May Take a While. Progress Bar shows Completion of Data Retrieval.\n"
     ]
    },
    {
     "name": "stderr",
     "output_type": "stream",
     "text": [
      "Processing: 100%|██████████| 32/32 [00:00<00:00, 46.20iteration/s]\n"
     ]
    },
    {
     "name": "stdout",
     "output_type": "stream",
     "text": [
      "Converting Data to Dataframe.\n",
      "This May Take a While. Progress Bar shows Completion of Data Retrieval.\n"
     ]
    },
    {
     "name": "stderr",
     "output_type": "stream",
     "text": [
      "Processing: 100%|██████████| 32/32 [00:00<00:00, 42.23iteration/s]\n"
     ]
    },
    {
     "name": "stdout",
     "output_type": "stream",
     "text": [
      "Converting Data to Dataframe.\n",
      "This May Take a While. Progress Bar shows Completion of Data Retrieval.\n"
     ]
    },
    {
     "name": "stderr",
     "output_type": "stream",
     "text": [
      "Processing: 100%|██████████| 32/32 [00:00<00:00, 56.27iteration/s]\n"
     ]
    },
    {
     "name": "stdout",
     "output_type": "stream",
     "text": [
      "Converting Data to Dataframe.\n",
      "This May Take a While. Progress Bar shows Completion of Data Retrieval.\n"
     ]
    },
    {
     "name": "stderr",
     "output_type": "stream",
     "text": [
      "Processing: 100%|██████████| 32/32 [00:00<00:00, 41.80iteration/s]\n"
     ]
    },
    {
     "name": "stdout",
     "output_type": "stream",
     "text": [
      "Converting Data to Dataframe.\n",
      "This May Take a While. Progress Bar shows Completion of Data Retrieval.\n"
     ]
    },
    {
     "name": "stderr",
     "output_type": "stream",
     "text": [
      "Processing: 100%|██████████| 61/61 [00:00<00:00, 67.33iteration/s]\n"
     ]
    },
    {
     "name": "stdout",
     "output_type": "stream",
     "text": [
      "Converting Data to Dataframe.\n",
      "This May Take a While. Progress Bar shows Completion of Data Retrieval.\n"
     ]
    },
    {
     "name": "stderr",
     "output_type": "stream",
     "text": [
      "Processing: 100%|██████████| 61/61 [00:00<00:00, 64.54iteration/s]\n"
     ]
    },
    {
     "name": "stdout",
     "output_type": "stream",
     "text": [
      "Converting Data to Dataframe.\n",
      "No pitching games found for player 694973 in season 2023\n",
      "This May Take a While. Progress Bar shows Completion of Data Retrieval.\n"
     ]
    },
    {
     "name": "stderr",
     "output_type": "stream",
     "text": [
      "Processing: 100%|██████████| 23/23 [00:00<00:00, 49.03iteration/s]\n"
     ]
    },
    {
     "name": "stdout",
     "output_type": "stream",
     "text": [
      "Converting Data to Dataframe.\n",
      "This May Take a While. Progress Bar shows Completion of Data Retrieval.\n"
     ]
    },
    {
     "name": "stderr",
     "output_type": "stream",
     "text": [
      "Processing: 100%|██████████| 26/26 [00:00<00:00, 46.44iteration/s]\n"
     ]
    },
    {
     "name": "stdout",
     "output_type": "stream",
     "text": [
      "Converting Data to Dataframe.\n",
      "This May Take a While. Progress Bar shows Completion of Data Retrieval.\n"
     ]
    },
    {
     "name": "stderr",
     "output_type": "stream",
     "text": [
      "Processing: 100%|██████████| 33/33 [00:00<00:00, 53.16iteration/s]\n"
     ]
    },
    {
     "name": "stdout",
     "output_type": "stream",
     "text": [
      "Converting Data to Dataframe.\n",
      "This May Take a While. Progress Bar shows Completion of Data Retrieval.\n"
     ]
    },
    {
     "name": "stderr",
     "output_type": "stream",
     "text": [
      "Processing: 100%|██████████| 20/20 [00:00<00:00, 45.11iteration/s]\n"
     ]
    },
    {
     "name": "stdout",
     "output_type": "stream",
     "text": [
      "Converting Data to Dataframe.\n",
      "This May Take a While. Progress Bar shows Completion of Data Retrieval.\n"
     ]
    },
    {
     "name": "stderr",
     "output_type": "stream",
     "text": [
      "Processing: 100%|██████████| 29/29 [00:00<00:00, 49.15iteration/s]\n"
     ]
    },
    {
     "name": "stdout",
     "output_type": "stream",
     "text": [
      "Converting Data to Dataframe.\n",
      "No pitching games found for player 684007 in season 2023\n",
      "This May Take a While. Progress Bar shows Completion of Data Retrieval.\n"
     ]
    },
    {
     "name": "stderr",
     "output_type": "stream",
     "text": [
      "Processing: 100%|██████████| 29/29 [00:00<00:00, 47.33iteration/s]\n"
     ]
    },
    {
     "name": "stdout",
     "output_type": "stream",
     "text": [
      "Converting Data to Dataframe.\n",
      "This May Take a While. Progress Bar shows Completion of Data Retrieval.\n"
     ]
    },
    {
     "name": "stderr",
     "output_type": "stream",
     "text": [
      "Processing: 100%|██████████| 22/22 [00:01<00:00, 18.37iteration/s]\n"
     ]
    },
    {
     "name": "stdout",
     "output_type": "stream",
     "text": [
      "Converting Data to Dataframe.\n",
      "This May Take a While. Progress Bar shows Completion of Data Retrieval.\n"
     ]
    },
    {
     "name": "stderr",
     "output_type": "stream",
     "text": [
      "Processing: 100%|██████████| 26/26 [00:05<00:00,  4.53iteration/s]\n"
     ]
    },
    {
     "name": "stdout",
     "output_type": "stream",
     "text": [
      "Converting Data to Dataframe.\n",
      "No pitching games found for player 671922 in season 2023\n",
      "This May Take a While. Progress Bar shows Completion of Data Retrieval.\n"
     ]
    },
    {
     "name": "stderr",
     "output_type": "stream",
     "text": [
      "Processing: 100%|██████████| 74/74 [00:05<00:00, 12.90iteration/s]\n"
     ]
    },
    {
     "name": "stdout",
     "output_type": "stream",
     "text": [
      "Converting Data to Dataframe.\n",
      "This May Take a While. Progress Bar shows Completion of Data Retrieval.\n"
     ]
    },
    {
     "name": "stderr",
     "output_type": "stream",
     "text": [
      "Processing: 100%|██████████| 32/32 [00:00<00:00, 48.87iteration/s]\n"
     ]
    },
    {
     "name": "stdout",
     "output_type": "stream",
     "text": [
      "Converting Data to Dataframe.\n",
      "This May Take a While. Progress Bar shows Completion of Data Retrieval.\n"
     ]
    },
    {
     "name": "stderr",
     "output_type": "stream",
     "text": [
      "Processing: 100%|██████████| 33/33 [00:05<00:00,  5.70iteration/s]\n"
     ]
    },
    {
     "name": "stdout",
     "output_type": "stream",
     "text": [
      "Converting Data to Dataframe.\n",
      "This May Take a While. Progress Bar shows Completion of Data Retrieval.\n"
     ]
    },
    {
     "name": "stderr",
     "output_type": "stream",
     "text": [
      "Processing: 100%|██████████| 33/33 [00:00<00:00, 34.34iteration/s]\n"
     ]
    },
    {
     "name": "stdout",
     "output_type": "stream",
     "text": [
      "Converting Data to Dataframe.\n",
      "This May Take a While. Progress Bar shows Completion of Data Retrieval.\n"
     ]
    },
    {
     "name": "stderr",
     "output_type": "stream",
     "text": [
      "Processing: 100%|██████████| 65/65 [00:01<00:00, 58.05iteration/s]\n"
     ]
    },
    {
     "name": "stdout",
     "output_type": "stream",
     "text": [
      "Converting Data to Dataframe.\n",
      "This May Take a While. Progress Bar shows Completion of Data Retrieval.\n"
     ]
    },
    {
     "name": "stderr",
     "output_type": "stream",
     "text": [
      "Processing: 100%|██████████| 75/75 [00:01<00:00, 65.84iteration/s]\n"
     ]
    },
    {
     "name": "stdout",
     "output_type": "stream",
     "text": [
      "Converting Data to Dataframe.\n",
      "This May Take a While. Progress Bar shows Completion of Data Retrieval.\n"
     ]
    },
    {
     "name": "stderr",
     "output_type": "stream",
     "text": [
      "Processing: 100%|██████████| 74/74 [00:01<00:00, 63.53iteration/s]\n"
     ]
    },
    {
     "name": "stdout",
     "output_type": "stream",
     "text": [
      "Converting Data to Dataframe.\n",
      "This May Take a While. Progress Bar shows Completion of Data Retrieval.\n"
     ]
    },
    {
     "name": "stderr",
     "output_type": "stream",
     "text": [
      "Processing: 100%|██████████| 15/15 [00:00<00:00, 40.84iteration/s]\n"
     ]
    },
    {
     "name": "stdout",
     "output_type": "stream",
     "text": [
      "Converting Data to Dataframe.\n",
      "This May Take a While. Progress Bar shows Completion of Data Retrieval.\n"
     ]
    },
    {
     "name": "stderr",
     "output_type": "stream",
     "text": [
      "Processing: 100%|██████████| 31/31 [00:00<00:00, 54.53iteration/s]\n"
     ]
    },
    {
     "name": "stdout",
     "output_type": "stream",
     "text": [
      "Converting Data to Dataframe.\n",
      "This May Take a While. Progress Bar shows Completion of Data Retrieval.\n"
     ]
    },
    {
     "name": "stderr",
     "output_type": "stream",
     "text": [
      "Processing: 100%|██████████| 29/29 [00:08<00:00,  3.38iteration/s]\n"
     ]
    },
    {
     "name": "stdout",
     "output_type": "stream",
     "text": [
      "Converting Data to Dataframe.\n",
      "This May Take a While. Progress Bar shows Completion of Data Retrieval.\n"
     ]
    },
    {
     "name": "stderr",
     "output_type": "stream",
     "text": [
      "Processing: 100%|██████████| 32/32 [00:00<00:00, 53.18iteration/s]\n"
     ]
    },
    {
     "name": "stdout",
     "output_type": "stream",
     "text": [
      "Converting Data to Dataframe.\n",
      "Pitch-level before-year rows: 165614\n",
      "Pitch-level award-year rows: 178516\n",
      "Game-level before-year rows: 1946\n",
      "Game-level award-year rows: 2302\n",
      "Season-level before-year rows: 69\n",
      "Season-level award-year rows: 73\n"
     ]
    }
   ],
   "source": [
    "import requests\n",
    "import pandas as pd\n",
    "from bs4 import BeautifulSoup, Comment\n",
    "from pybaseball import playerid_lookup, pitching_stats\n",
    "import statsapi\n",
    "from data_scraper import MLB_Scrape\n",
    "import unicodedata\n",
    "import io\n",
    "\n",
    "# —————————————————————————————\n",
    "# Setup a session with headers to avoid blocks\n",
    "# —————————————————————————————\n",
    "HEADERS = {\n",
    "    \"User-Agent\": (\n",
    "        \"Mozilla/5.0 (Windows NT 10.0; Win64; x64) \"\n",
    "        \"AppleWebKit/537.36 (KHTML, like Gecko) \"\n",
    "        \"Chrome/115.0.0.0 Safari/537.36\"\n",
    "    ),\n",
    "    \"Accept-Language\": \"en-US,en;q=0.9\",\n",
    "    \"Referer\": \"https://www.baseball-reference.com/\"\n",
    "}\n",
    "session = requests.Session()\n",
    "session.headers.update(HEADERS)\n",
    "scraper = MLB_Scrape()\n",
    "\n",
    "# —————————————————————————————\n",
    "# Accent-stripping utility\n",
    "# —————————————————————————————\n",
    "def strip_accents(text: str) -> str:\n",
    "    \"\"\"\n",
    "    Normalize unicode string, removing any accent marks.\n",
    "    \"\"\"\n",
    "    return ''.join(\n",
    "        c for c in unicodedata.normalize('NFD', text)\n",
    "        if unicodedata.category(c) != 'Mn'\n",
    "    )\n",
    "\n",
    "# —————————————————————————————\n",
    "# ID Lookup via pybaseball (robust)\n",
    "# —————————————————————————————\n",
    "def get_player_id(name: str) -> int:\n",
    "    name_clean = strip_accents(name)\n",
    "    parts = name_clean.split()\n",
    "    last, first = parts[-1], parts[0]\n",
    "    df = playerid_lookup(last, first)\n",
    "    if df.empty or pd.isna(df.loc[0, 'key_mlbam']):\n",
    "        raise ValueError(f\"No MLBAM ID found for {name!r}\")\n",
    "    return int(df.loc[0, 'key_mlbam'])\n",
    "\n",
    "# —————————————————————————————\n",
    "# Scrape Top-10 finishers for each award year\n",
    "# —————————————————————————————\n",
    "def get_top10_cy_young_ids(years: list[int]) -> dict[int, set[int]]:\n",
    "    top_ids: dict[int, set[int]] = {}\n",
    "    for yr in years:\n",
    "        url = f\"https://www.baseball-reference.com/awards/awards_{yr}.shtml\"\n",
    "        resp = session.get(url); resp.raise_for_status()\n",
    "        soup = BeautifulSoup(resp.content, \"html.parser\", from_encoding='utf-8')\n",
    "        comments = soup.find_all(string=lambda t: isinstance(t, Comment))\n",
    "        season_ids: set[int] = set()\n",
    "        for c in comments:\n",
    "            if \"Cy Young Voting\" not in c:\n",
    "                continue\n",
    "            tbl_html = str(BeautifulSoup(c, \"html.parser\").find(\"table\"))\n",
    "            if not tbl_html:\n",
    "                continue\n",
    "            df_full = pd.read_html(io.StringIO(tbl_html))[0]\n",
    "            df_top = df_full.head(10)\n",
    "            player_cols = [col for col in df_top.columns if \"player\" in str(col).lower()]\n",
    "            name_col = player_cols[0] if player_cols else df_top.columns[1]\n",
    "            for raw_name in df_top[name_col]:\n",
    "                try:\n",
    "                    pid = get_player_id(raw_name)\n",
    "                    season_ids.add(pid)\n",
    "                except Exception:\n",
    "                    print(f\"Warning: could not lookup ID for {raw_name!r}\")\n",
    "        top_ids[yr] = season_ids\n",
    "    return top_ids\n",
    "\n",
    "# —————————————————————————————\n",
    "# Build the 2-season scrape map\n",
    "# —————————————————————————————\n",
    "def build_player_seasons(top_ids: dict[int, set[int]]) -> dict[int, list[int]]:\n",
    "    ps: dict[int, set[int]] = {}\n",
    "    for season, pids in top_ids.items():\n",
    "        for pid in pids:\n",
    "            ps.setdefault(pid, set()).update({season - 1, season})\n",
    "    return {pid: sorted(yrs) for pid, yrs in ps.items()}\n",
    "\n",
    "# —————————————————————————————\n",
    "# Fetch full name from Stats API\n",
    "# —————————————————————————————\n",
    "def get_player_name(pid: int) -> str:\n",
    "    resp = statsapi.get('people', {'personIds': pid})\n",
    "    ppl = resp.get('people', [])\n",
    "    if not ppl:\n",
    "        raise ValueError(f\"No MLB person found for ID {pid}\")\n",
    "    return ppl[0]['fullName']\n",
    "\n",
    "# —————————————————————————————\n",
    "# Scrape pitch-level data\n",
    "# —————————————————————————————\n",
    "def scrape_pitch_level(player_seasons: dict[int, list[int]]) -> pd.DataFrame:\n",
    "    all_p = []\n",
    "    for pid, seasons in player_seasons.items():\n",
    "        name = get_player_name(pid)\n",
    "        for yr in seasons:\n",
    "            games = scraper.get_player_games_list(\n",
    "                player_id=pid, season=yr,\n",
    "                start_date=f\"{yr}-03-01\", end_date=f\"{yr}-11-30\",\n",
    "                sport_id=1, game_type=['R'], pitching=True\n",
    "            )\n",
    "            if not games:\n",
    "                continue\n",
    "            jsons = scraper.get_data(game_list_input=games)\n",
    "            df_raw = scraper.get_data_df(data_list=jsons)\n",
    "            df = df_raw.to_pandas() if hasattr(df_raw, 'to_pandas') else df_raw\n",
    "            df = df[df['pitcher_id'] == pid].copy()\n",
    "            df['Name'], df['Season'] = name, yr\n",
    "            all_p.append(df)\n",
    "    return pd.concat(all_p, ignore_index=True) if all_p else pd.DataFrame()\n",
    "\n",
    "# —————————————————————————————\n",
    "# Aggregate to game level\n",
    "# —————————————————————————————\n",
    "def aggregate_game_level(pitch_df: pd.DataFrame, feature_cols: list[str]) -> pd.DataFrame:\n",
    "    return (\n",
    "        pitch_df\n",
    "        .groupby(['game_id','game_date','Name','Season'])[feature_cols]\n",
    "        .mean()\n",
    "        .reset_index()\n",
    "        .rename({c: f\"{c}_mean\" for c in feature_cols}, axis=1)\n",
    "    )\n",
    "\n",
    "# —————————————————————————————\n",
    "# Scrape season totals\n",
    "# —————————————————————————————\n",
    "def scrape_season_totals(player_seasons: dict[int, list[int]], qual: int = 0) -> pd.DataFrame:\n",
    "    recs = []\n",
    "    name_map = {pid: get_player_name(pid) for pid in player_seasons}\n",
    "    for pid, seasons in player_seasons.items():\n",
    "        name = name_map[pid]\n",
    "        for yr in seasons:\n",
    "            df_yr = pitching_stats(yr, qual=qual)\n",
    "            df_f = df_yr[df_yr['Name'] == name].copy()\n",
    "            df_f['Season'] = yr\n",
    "            recs.append(df_f)\n",
    "    return pd.concat(recs, ignore_index=True) if recs else pd.DataFrame()\n",
    "\n",
    "# —————————————————————————————\n",
    "# Main execution: split into pre- and award-year datasets\n",
    "# —————————————————————————————\n",
    "if __name__ == '__main__':\n",
    "    award_years = [2022, 2023, 2024]\n",
    "    prev_years = [yr - 1 for yr in award_years]\n",
    "\n",
    "    # get mappings\n",
    "    top_ids_by_year = get_top10_cy_young_ids(award_years)\n",
    "    player_seasons_map = build_player_seasons(top_ids_by_year)\n",
    "\n",
    "    # full scrapes\n",
    "    pitch_df = scrape_pitch_level(player_seasons_map)\n",
    "    features = [\n",
    "        'rbi','start_speed','end_speed','sz_top','sz_bot','x','y','ax','ay','az',\n",
    "        'pfxx','pfxz','px','pz','vx0','vy0','vz0','x0','y0','z0','zone',\n",
    "        'type_confidence','plate_time','extension','spin_rate','spin_direction','vb','ivb','hb'\n",
    "    ]\n",
    "    game_df = aggregate_game_level(pitch_df, features)\n",
    "    season_df = scrape_season_totals(player_seasons_map)\n",
    "\n",
    "    # split\n",
    "    pitch_pre  = pitch_df [pitch_df ['Season'].isin(prev_years)]\n",
    "    pitch_aw   = pitch_df [pitch_df ['Season'].isin(award_years)]\n",
    "    game_pre   = game_df  [game_df  ['Season'].isin(prev_years)]\n",
    "    game_aw    = game_df  [game_df  ['Season'].isin(award_years)]\n",
    "    season_pre = season_df[season_df['Season'].isin(prev_years)]\n",
    "    season_aw  = season_df[season_df['Season'].isin(award_years)]\n",
    "\n",
    "    # outputs\n",
    "    print(\"Pitch-level before-year rows:\", len(pitch_pre))\n",
    "    print(\"Pitch-level award-year rows:\", len(pitch_aw))\n",
    "    print(\"Game-level before-year rows:\", len(game_pre))\n",
    "    print(\"Game-level award-year rows:\", len(game_aw))\n",
    "    print(\"Season-level before-year rows:\", len(season_pre))\n",
    "    print(\"Season-level award-year rows:\", len(season_aw))"
   ]
  },
  {
   "cell_type": "code",
   "execution_count": 5,
   "metadata": {},
   "outputs": [],
   "source": [
    "pitch_df.to_csv(\"data/pitch_level.csv\", index=False)\n",
    "game_df.to_csv(\"data/game_level.csv\", index=False)\n",
    "season_df.to_csv(\"data/season_totals.csv\", index=False)"
   ]
  },
  {
   "cell_type": "code",
   "execution_count": 3,
   "metadata": {},
   "outputs": [
    {
     "name": "stderr",
     "output_type": "stream",
     "text": [
      "/tmp/ipykernel_56425/347941390.py:44: FutureWarning: Passing literal html to 'read_html' is deprecated and will be removed in a future version. To read from a literal string, wrap it in a 'StringIO' object.\n",
      "  df = pd.read_html(str(tbl))[0]\n",
      "/tmp/ipykernel_56425/347941390.py:44: FutureWarning: Passing literal html to 'read_html' is deprecated and will be removed in a future version. To read from a literal string, wrap it in a 'StringIO' object.\n",
      "  df = pd.read_html(str(tbl))[0]\n",
      "/tmp/ipykernel_56425/347941390.py:44: FutureWarning: Passing literal html to 'read_html' is deprecated and will be removed in a future version. To read from a literal string, wrap it in a 'StringIO' object.\n",
      "  df = pd.read_html(str(tbl))[0]\n",
      "/tmp/ipykernel_56425/347941390.py:44: FutureWarning: Passing literal html to 'read_html' is deprecated and will be removed in a future version. To read from a literal string, wrap it in a 'StringIO' object.\n",
      "  df = pd.read_html(str(tbl))[0]\n",
      "/tmp/ipykernel_56425/347941390.py:44: FutureWarning: Passing literal html to 'read_html' is deprecated and will be removed in a future version. To read from a literal string, wrap it in a 'StringIO' object.\n",
      "  df = pd.read_html(str(tbl))[0]\n",
      "/tmp/ipykernel_56425/347941390.py:44: FutureWarning: Passing literal html to 'read_html' is deprecated and will be removed in a future version. To read from a literal string, wrap it in a 'StringIO' object.\n",
      "  df = pd.read_html(str(tbl))[0]\n",
      "/tmp/ipykernel_56425/347941390.py:44: FutureWarning: Passing literal html to 'read_html' is deprecated and will be removed in a future version. To read from a literal string, wrap it in a 'StringIO' object.\n",
      "  df = pd.read_html(str(tbl))[0]\n",
      "/tmp/ipykernel_56425/347941390.py:44: FutureWarning: Passing literal html to 'read_html' is deprecated and will be removed in a future version. To read from a literal string, wrap it in a 'StringIO' object.\n",
      "  df = pd.read_html(str(tbl))[0]\n"
     ]
    }
   ],
   "source": [
    "import requests\n",
    "import pandas as pd\n",
    "from bs4 import BeautifulSoup, Comment\n",
    "\n",
    "# —————————————————————————————\n",
    "# Helpers for scraping\n",
    "# —————————————————————————————\n",
    "HEADERS = {\n",
    "    \"User-Agent\": (\n",
    "        \"Mozilla/5.0 (Windows NT 10.0; Win64; x64) \"\n",
    "        \"AppleWebKit/537.36 (KHTML, like Gecko) \"\n",
    "        \"Chrome/115.0.0.0 Safari/537.36\"\n",
    "    ),\n",
    "    \"Accept-Language\": \"en-US,en;q=0.9\",\n",
    "    \"Referer\": \"https://www.baseball-reference.com/\"\n",
    "}\n",
    "session = requests.Session()\n",
    "session.headers.update(HEADERS)\n",
    "\n",
    "\n",
    "def scrape_cy_young_winners(seasons: list[int]) -> pd.DataFrame:\n",
    "    \"\"\"\n",
    "    Scrape Baseball‑Reference award pages for Cy Young winners.\n",
    "    Returns a DataFrame with columns ['Name', 'Season', 'winner_flag'].\n",
    "    \"\"\"\n",
    "    records = []\n",
    "    for yr in seasons:\n",
    "        url = f\"https://www.baseball-reference.com/awards/awards_{yr}.shtml\"\n",
    "        resp = session.get(url)\n",
    "        resp.raise_for_status()\n",
    "        soup = BeautifulSoup(resp.text, \"html.parser\")\n",
    "\n",
    "        # BR hides their tables in HTML comments\n",
    "        comments = soup.find_all(string=lambda t: isinstance(t, Comment))\n",
    "        # we want the first Cy Young Voting table per league, but the winner is always first row\n",
    "        for c in comments:\n",
    "            if \"Cy Young Voting\" not in c:\n",
    "                continue\n",
    "            tbl = BeautifulSoup(c, \"html.parser\").find(\"table\")\n",
    "            if tbl is None:\n",
    "                continue\n",
    "\n",
    "            # parse the table into pandas\n",
    "            df = pd.read_html(str(tbl))[0]\n",
    "            # identify the player column\n",
    "            player_cols = [col for col in df.columns if \"player\" in str(col).lower()]\n",
    "            if player_cols:\n",
    "                name_col = player_cols[0]\n",
    "            else:\n",
    "                # fallback: assume second column is player\n",
    "                name_col = df.columns[1]\n",
    "\n",
    "            # grab the first-place finisher\n",
    "            winner = df[name_col].iloc[0]\n",
    "            records.append({\n",
    "                \"Name\": winner,\n",
    "                \"Season\": yr,\n",
    "                \"winner_flag\": 1\n",
    "            })\n",
    "            # once per table, move on to next comment (other league)\n",
    "    winners_df = pd.DataFrame.from_records(records)\n",
    "    return winners_df\n",
    "\n",
    "\n",
    "if __name__ == \"__main__\":\n",
    "    # 1) list all seasons for which you need labels:\n",
    "    #    (e.g. award years and/or prior years from your pipeline)\n",
    "    seasons = [2021, 2022, 2023, 2024]\n",
    "\n",
    "    # 2) load your season_totals to get every (Name, Season) you scraped\n",
    "    combos = (\n",
    "        season_df[[\"Name\", \"Season\"]]\n",
    "        .drop_duplicates()\n",
    "        .reset_index(drop=True)\n",
    "    )\n",
    "\n",
    "    # 3) scrape winners\n",
    "    winners_df = scrape_cy_young_winners(seasons)\n",
    "\n",
    "    # 4) merge and fill zeros for non‑winners\n",
    "    labels = (\n",
    "        combos\n",
    "        .merge(winners_df, on=[\"Name\", \"Season\"], how=\"left\")\n",
    "        .fillna({\"winner_flag\": 0})\n",
    "    )\n",
    "    labels[\"winner_flag\"] = labels[\"winner_flag\"].astype(int)"
   ]
  },
  {
   "cell_type": "code",
   "execution_count": null,
   "metadata": {},
   "outputs": [],
   "source": [
    "labels.to_csv('data/cy_winners.csv')"
   ]
  }
 ],
 "metadata": {
  "kernelspec": {
   "display_name": ".venv",
   "language": "python",
   "name": "python3"
  },
  "language_info": {
   "codemirror_mode": {
    "name": "ipython",
    "version": 3
   },
   "file_extension": ".py",
   "mimetype": "text/x-python",
   "name": "python",
   "nbconvert_exporter": "python",
   "pygments_lexer": "ipython3",
   "version": "3.12.3"
  }
 },
 "nbformat": 4,
 "nbformat_minor": 2
}
